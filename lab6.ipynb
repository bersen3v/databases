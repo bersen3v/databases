{
 "cells": [
  {
   "cell_type": "code",
   "execution_count": 2,
   "id": "32e31ddb-81c5-4e38-9f21-513e990001ad",
   "metadata": {},
   "outputs": [],
   "source": [
    "import sqlite3\n",
    "%config SqlMagic.style = '_DEPRECATED_DEFAULT'\n",
    "connection = sqlite3.connect('my_database2.db')\n",
    "%load_ext sql\n",
    "%sql sqlite:///my_database2.db"
   ]
  },
  {
   "cell_type": "code",
   "execution_count": 5,
   "id": "6f4a4da0-0f93-4ee2-a8db-60da5c7ec0a1",
   "metadata": {},
   "outputs": [
    {
     "name": "stdout",
     "output_type": "stream",
     "text": [
      " * sqlite:///my_database2.db\n",
      "Done.\n"
     ]
    },
    {
     "data": {
      "text/html": [
       "<table>\n",
       "    <thead>\n",
       "        <tr>\n",
       "            <th>name</th>\n",
       "            <th>quantity</th>\n",
       "        </tr>\n",
       "    </thead>\n",
       "    <tbody>\n",
       "        <tr>\n",
       "            <td>Зонтик</td>\n",
       "            <td>200</td>\n",
       "        </tr>\n",
       "        <tr>\n",
       "            <td>Фотоаппарат</td>\n",
       "            <td>200</td>\n",
       "        </tr>\n",
       "    </tbody>\n",
       "</table>"
      ],
      "text/plain": [
       "[('Зонтик', 200), ('Фотоаппарат', 200)]"
      ]
     },
     "execution_count": 5,
     "metadata": {},
     "output_type": "execute_result"
    }
   ],
   "source": [
    "# %%sql \n",
    "# SELECT name, quantity\n",
    "# FROM Store INNER JOIN Product ON Store.ID_Product = Product.id \n",
    "# WHERE quantity = (SELECT MAX(quantity) FROM Store)"
   ]
  },
  {
   "cell_type": "code",
   "execution_count": 14,
   "id": "36aa4c4c-41e5-4a2b-9c4b-87da3de80844",
   "metadata": {},
   "outputs": [
    {
     "name": "stdout",
     "output_type": "stream",
     "text": [
      " * sqlite:///my_database2.db\n",
      "Done.\n"
     ]
    },
    {
     "data": {
      "text/html": [
       "<table>\n",
       "    <thead>\n",
       "        <tr>\n",
       "            <th>name</th>\n",
       "            <th>quantity</th>\n",
       "        </tr>\n",
       "    </thead>\n",
       "    <tbody>\n",
       "        <tr>\n",
       "            <td>Зонтик</td>\n",
       "            <td>200</td>\n",
       "        </tr>\n",
       "        <tr>\n",
       "            <td>Фотоаппарат</td>\n",
       "            <td>200</td>\n",
       "        </tr>\n",
       "    </tbody>\n",
       "</table>"
      ],
      "text/plain": [
       "[('Зонтик', 200), ('Фотоаппарат', 200)]"
      ]
     },
     "execution_count": 14,
     "metadata": {},
     "output_type": "execute_result"
    }
   ],
   "source": [
    "# %%sql\n",
    "# SELECT (SELECT name FROM Product WHERE Product.id = Store.ID_Product) as name, quantity FROM Store\n",
    "# WHERE quantity = (SELECT max(quantity) FROM Store)\n",
    "\n",
    "# SELECT Name \n",
    "#     FROM Product \n",
    "#     WHERE id IN (\n",
    "#         SELECT ID_Product\n",
    "#             FROM Store\n"
   ]
  },
  {
   "cell_type": "code",
   "execution_count": 7,
   "id": "610a0a7f-6f38-48da-abc4-2657941f2551",
   "metadata": {},
   "outputs": [],
   "source": [
    "# 1) Вывести наименования товаров, количество которых на складе максимально (на\n",
    "# складе должно быть как минимум два товара, количество которых одинаково и\n",
    "# равно максимальному)."
   ]
  },
  {
   "cell_type": "code",
   "execution_count": 8,
   "id": "5b6be7fb-a32c-4a34-8a54-25eb6c1d5681",
   "metadata": {},
   "outputs": [
    {
     "name": "stdout",
     "output_type": "stream",
     "text": [
      " * sqlite:///my_database2.db\n",
      "Done.\n"
     ]
    },
    {
     "data": {
      "text/html": [
       "<table>\n",
       "    <thead>\n",
       "        <tr>\n",
       "            <th>name</th>\n",
       "        </tr>\n",
       "    </thead>\n",
       "    <tbody>\n",
       "        <tr>\n",
       "            <td>Зонтик</td>\n",
       "        </tr>\n",
       "        <tr>\n",
       "            <td>Фотоаппарат</td>\n",
       "        </tr>\n",
       "    </tbody>\n",
       "</table>"
      ],
      "text/plain": [
       "[('Зонтик',), ('Фотоаппарат',)]"
      ]
     },
     "execution_count": 8,
     "metadata": {},
     "output_type": "execute_result"
    }
   ],
   "source": [
    "%%sql\n",
    "SELECT name \n",
    "FROM Product \n",
    "WHERE id in (\n",
    "    SELECT ID_Product \n",
    "    FROM Store \n",
    "    WHERE quantity = (SELECT max(quantity) FROM Store)\n",
    ")"
   ]
  },
  {
   "cell_type": "code",
   "execution_count": 3,
   "id": "16b70be7-f8b5-4d66-a52e-6c878ff22c00",
   "metadata": {},
   "outputs": [
    {
     "name": "stdout",
     "output_type": "stream",
     "text": [
      " * sqlite:///my_database2.db\n",
      "Done.\n"
     ]
    },
    {
     "data": {
      "text/html": [
       "<table>\n",
       "    <thead>\n",
       "        <tr>\n",
       "            <th>name</th>\n",
       "            <th>quantity</th>\n",
       "        </tr>\n",
       "    </thead>\n",
       "    <tbody>\n",
       "        <tr>\n",
       "            <td>Футбольный мяч</td>\n",
       "            <td>100</td>\n",
       "        </tr>\n",
       "        <tr>\n",
       "            <td>Футбольный мяч</td>\n",
       "            <td>150</td>\n",
       "        </tr>\n",
       "        <tr>\n",
       "            <td>Наушники</td>\n",
       "            <td>100</td>\n",
       "        </tr>\n",
       "        <tr>\n",
       "            <td>Книга</td>\n",
       "            <td>150</td>\n",
       "        </tr>\n",
       "    </tbody>\n",
       "</table>"
      ],
      "text/plain": [
       "[('Футбольный мяч', 100),\n",
       " ('Футбольный мяч', 150),\n",
       " ('Наушники', 100),\n",
       " ('Книга', 150)]"
      ]
     },
     "execution_count": 3,
     "metadata": {},
     "output_type": "execute_result"
    }
   ],
   "source": [
    "# %%sql\n",
    "# SELECT name, quantity\n",
    "# FROM Store INNER JOIN Product ON Store.ID_Product = Product.id\n",
    "# WHERE quantity BETWEEN 100 AND 150\n",
    "# ORDER BY name DESC"
   ]
  },
  {
   "cell_type": "code",
   "execution_count": 21,
   "id": "5fed3b0f-3829-48fa-8cf3-e2e30fd3b45b",
   "metadata": {},
   "outputs": [
    {
     "name": "stdout",
     "output_type": "stream",
     "text": [
      " * sqlite:///my_database2.db\n",
      "Done.\n"
     ]
    },
    {
     "data": {
      "text/html": [
       "<table>\n",
       "    <thead>\n",
       "        <tr>\n",
       "            <th>name</th>\n",
       "            <th>quantity</th>\n",
       "        </tr>\n",
       "    </thead>\n",
       "    <tbody>\n",
       "        <tr>\n",
       "            <td>Футбольный мяч</td>\n",
       "            <td>100</td>\n",
       "        </tr>\n",
       "        <tr>\n",
       "            <td>Футбольный мяч</td>\n",
       "            <td>150</td>\n",
       "        </tr>\n",
       "        <tr>\n",
       "            <td>Наушники</td>\n",
       "            <td>100</td>\n",
       "        </tr>\n",
       "        <tr>\n",
       "            <td>Книга</td>\n",
       "            <td>150</td>\n",
       "        </tr>\n",
       "    </tbody>\n",
       "</table>"
      ],
      "text/plain": [
       "[('Футбольный мяч', 100),\n",
       " ('Футбольный мяч', 150),\n",
       " ('Наушники', 100),\n",
       " ('Книга', 150)]"
      ]
     },
     "execution_count": 21,
     "metadata": {},
     "output_type": "execute_result"
    }
   ],
   "source": [
    "# %%sql\n",
    "# SELECT (SELECT name FROM Product WHERE Product.id = Store.ID_Product) as name, quantity \n",
    "# FROM Store\n",
    "# WHERE quantity BETWEEN 100 AND 150\n",
    "# ORDER BY name DESC"
   ]
  },
  {
   "cell_type": "code",
   "execution_count": null,
   "id": "11bf56bb-92d1-445a-bfd5-fa7723c2167b",
   "metadata": {},
   "outputs": [],
   "source": [
    "# 2) Вывести в порядке, обратном алфавитному, наименования товаров, количество\n",
    "# которых на складе находится в заданном диапазоне"
   ]
  },
  {
   "cell_type": "code",
   "execution_count": 9,
   "id": "f02f42fa-57fc-44f6-8913-36b440935a3e",
   "metadata": {},
   "outputs": [
    {
     "name": "stdout",
     "output_type": "stream",
     "text": [
      " * sqlite:///my_database2.db\n",
      "Done.\n"
     ]
    },
    {
     "data": {
      "text/html": [
       "<table>\n",
       "    <thead>\n",
       "        <tr>\n",
       "            <th>name</th>\n",
       "        </tr>\n",
       "    </thead>\n",
       "    <tbody>\n",
       "        <tr>\n",
       "            <td>Ноутбук</td>\n",
       "        </tr>\n",
       "        <tr>\n",
       "            <td>Наушники</td>\n",
       "        </tr>\n",
       "        <tr>\n",
       "            <td>Книга</td>\n",
       "        </tr>\n",
       "    </tbody>\n",
       "</table>"
      ],
      "text/plain": [
       "[('Ноутбук',), ('Наушники',), ('Книга',)]"
      ]
     },
     "execution_count": 9,
     "metadata": {},
     "output_type": "execute_result"
    }
   ],
   "source": [
    "%%sql\n",
    "SELECT name \n",
    "FROM Product\n",
    "WHERE id IN (\n",
    "    SELECT ID_Product \n",
    "    FROM Store\n",
    "    GROUP BY ID_Product\n",
    "    HAVING SUM(quantity) BETWEEN 100 AND 150\n",
    ")"
   ]
  },
  {
   "cell_type": "code",
   "execution_count": 27,
   "id": "48ac25eb-de93-4044-ace7-4cfc47b1ac73",
   "metadata": {},
   "outputs": [
    {
     "name": "stdout",
     "output_type": "stream",
     "text": [
      " * sqlite:///my_database2.db\n",
      "Done.\n"
     ]
    },
    {
     "data": {
      "text/html": [
       "<table>\n",
       "    <thead>\n",
       "        <tr>\n",
       "            <th>name</th>\n",
       "        </tr>\n",
       "    </thead>\n",
       "    <tbody>\n",
       "        <tr>\n",
       "            <td>Компания A</td>\n",
       "        </tr>\n",
       "        <tr>\n",
       "            <td>Компания B</td>\n",
       "        </tr>\n",
       "        <tr>\n",
       "            <td>Компания C</td>\n",
       "        </tr>\n",
       "    </tbody>\n",
       "</table>"
      ],
      "text/plain": [
       "[('Компания A',), ('Компания B',), ('Компания C',)]"
      ]
     },
     "execution_count": 27,
     "metadata": {},
     "output_type": "execute_result"
    }
   ],
   "source": [
    "# %%sql\n",
    "# SELECT DISTINCT name\n",
    "# FROM Store INNER JOIN Provider ON Store.ID_Provider = Provider.id\n",
    "# ORDER BY name"
   ]
  },
  {
   "cell_type": "code",
   "execution_count": 25,
   "id": "54e969d4-e167-43dd-bd55-e037b3088125",
   "metadata": {},
   "outputs": [
    {
     "name": "stdout",
     "output_type": "stream",
     "text": [
      " * sqlite:///my_database2.db\n",
      "Done.\n"
     ]
    },
    {
     "data": {
      "text/html": [
       "<table>\n",
       "    <thead>\n",
       "        <tr>\n",
       "            <th>name</th>\n",
       "        </tr>\n",
       "    </thead>\n",
       "    <tbody>\n",
       "        <tr>\n",
       "            <td>Компания A</td>\n",
       "        </tr>\n",
       "        <tr>\n",
       "            <td>Компания B</td>\n",
       "        </tr>\n",
       "        <tr>\n",
       "            <td>Компания C</td>\n",
       "        </tr>\n",
       "    </tbody>\n",
       "</table>"
      ],
      "text/plain": [
       "[('Компания A',), ('Компания B',), ('Компания C',)]"
      ]
     },
     "execution_count": 25,
     "metadata": {},
     "output_type": "execute_result"
    }
   ],
   "source": [
    "# %%sql\n",
    "# SELECT DISTINCT (SELECT name FROM Provider WHERE Provider.id = ID_Provider) as name \n",
    "# FROM Store\n",
    "# ORDER BY name"
   ]
  },
  {
   "cell_type": "code",
   "execution_count": null,
   "id": "45c3fc5e-4a52-4b5c-9625-6a6f497d12fb",
   "metadata": {},
   "outputs": [],
   "source": [
    "# 3)Вывести поставщиков, которые хотя бы раз осуществили поставку, в алфавитном\n",
    "# порядке"
   ]
  },
  {
   "cell_type": "code",
   "execution_count": 10,
   "id": "45c7e216-0fea-4d20-bb7b-ac958b4b08c1",
   "metadata": {},
   "outputs": [
    {
     "name": "stdout",
     "output_type": "stream",
     "text": [
      " * sqlite:///my_database2.db\n",
      "Done.\n"
     ]
    },
    {
     "data": {
      "text/html": [
       "<table>\n",
       "    <thead>\n",
       "        <tr>\n",
       "            <th>name</th>\n",
       "        </tr>\n",
       "    </thead>\n",
       "    <tbody>\n",
       "        <tr>\n",
       "            <td>Компания A</td>\n",
       "        </tr>\n",
       "        <tr>\n",
       "            <td>Компания B</td>\n",
       "        </tr>\n",
       "        <tr>\n",
       "            <td>Компания C</td>\n",
       "        </tr>\n",
       "    </tbody>\n",
       "</table>"
      ],
      "text/plain": [
       "[('Компания A',), ('Компания B',), ('Компания C',)]"
      ]
     },
     "execution_count": 10,
     "metadata": {},
     "output_type": "execute_result"
    }
   ],
   "source": [
    "%%sql\n",
    "SELECT name\n",
    "FROM Provider\n",
    "WHERE id in (\n",
    "    SELECT DISTINCT ID_Provider \n",
    "    FROM Store\n",
    ")"
   ]
  },
  {
   "cell_type": "code",
   "execution_count": 19,
   "id": "bd6b50e1-de87-465c-87f5-5bff1607baf5",
   "metadata": {},
   "outputs": [
    {
     "name": "stdout",
     "output_type": "stream",
     "text": [
      " * sqlite:///my_database2.db\n",
      "Done.\n"
     ]
    },
    {
     "data": {
      "text/html": [
       "<table>\n",
       "    <thead>\n",
       "        <tr>\n",
       "            <th>diff</th>\n",
       "            <th>name</th>\n",
       "        </tr>\n",
       "    </thead>\n",
       "    <tbody>\n",
       "        <tr>\n",
       "            <td>26.0</td>\n",
       "            <td>Петров Дмитрий</td>\n",
       "        </tr>\n",
       "        <tr>\n",
       "            <td>21.0</td>\n",
       "            <td>Кузнецова Анна</td>\n",
       "        </tr>\n",
       "        <tr>\n",
       "            <td>20.0</td>\n",
       "            <td>Жуков Игорь</td>\n",
       "        </tr>\n",
       "        <tr>\n",
       "            <td>18.0</td>\n",
       "            <td>Морозова Наталья</td>\n",
       "        </tr>\n",
       "    </tbody>\n",
       "</table>"
      ],
      "text/plain": [
       "[(26.0, 'Петров Дмитрий'),\n",
       " (21.0, 'Кузнецова Анна'),\n",
       " (20.0, 'Жуков Игорь'),\n",
       " (18.0, 'Морозова Наталья')]"
      ]
     },
     "execution_count": 19,
     "metadata": {},
     "output_type": "execute_result"
    }
   ],
   "source": [
    "# %%sql \n",
    "# SELECT DISTINCT julianday(Date(\"now\")) - julianday(date) AS diff, name \n",
    "# FROM Deal INNER JOIN Client ON Deal.ID_Client = Client.id\n",
    "# WHERE diff<=30"
   ]
  },
  {
   "cell_type": "code",
   "execution_count": 45,
   "id": "f446a9b7-b768-479d-833d-f94f9fce441e",
   "metadata": {},
   "outputs": [
    {
     "name": "stdout",
     "output_type": "stream",
     "text": [
      " * sqlite:///my_database2.db\n",
      "Done.\n"
     ]
    },
    {
     "data": {
      "text/html": [
       "<table>\n",
       "    <thead>\n",
       "        <tr>\n",
       "            <th>name</th>\n",
       "        </tr>\n",
       "    </thead>\n",
       "    <tbody>\n",
       "        <tr>\n",
       "            <td>Иванов Петр</td>\n",
       "        </tr>\n",
       "        <tr>\n",
       "            <td>Морозова Наталья</td>\n",
       "        </tr>\n",
       "        <tr>\n",
       "            <td>Кузнецова Анна</td>\n",
       "        </tr>\n",
       "        <tr>\n",
       "            <td>Петров Дмитрий</td>\n",
       "        </tr>\n",
       "        <tr>\n",
       "            <td>Сергеева Ольга</td>\n",
       "        </tr>\n",
       "    </tbody>\n",
       "</table>"
      ],
      "text/plain": [
       "[('Иванов Петр',),\n",
       " ('Морозова Наталья',),\n",
       " ('Кузнецова Анна',),\n",
       " ('Петров Дмитрий',),\n",
       " ('Сергеева Ольга',)]"
      ]
     },
     "execution_count": 45,
     "metadata": {},
     "output_type": "execute_result"
    }
   ],
   "source": [
    "# %%sql\n",
    "# SELECT DISTINCT (SELECT name FROM Client WHERE ID_Client = id) as name\n",
    "# FROM Deal\n",
    "# WHERE julianday(Date(\"now\")) - julianday(date) < 60\n",
    "# ORDER BY date DESC"
   ]
  },
  {
   "cell_type": "code",
   "execution_count": null,
   "id": "315b0b01-a93b-476b-80a3-883ef62b62ed",
   "metadata": {},
   "outputs": [],
   "source": [
    "# 4). 30 дней с даты последней покупки действует дополнительная скидка на все товары.\n",
    "# Вывести список покупателей, имеющих возможность воспользоваться указанной\n",
    "# скидкой."
   ]
  },
  {
   "cell_type": "code",
   "execution_count": 11,
   "id": "d3b31f72-fa27-459b-9162-8feb3494c0ec",
   "metadata": {},
   "outputs": [
    {
     "name": "stdout",
     "output_type": "stream",
     "text": [
      " * sqlite:///my_database2.db\n",
      "Done.\n"
     ]
    },
    {
     "data": {
      "text/html": [
       "<table>\n",
       "    <thead>\n",
       "        <tr>\n",
       "            <th>name</th>\n",
       "        </tr>\n",
       "    </thead>\n",
       "    <tbody>\n",
       "        <tr>\n",
       "            <td>Иванов Петр</td>\n",
       "        </tr>\n",
       "        <tr>\n",
       "            <td>Сергеева Ольга</td>\n",
       "        </tr>\n",
       "        <tr>\n",
       "            <td>Петров Дмитрий</td>\n",
       "        </tr>\n",
       "        <tr>\n",
       "            <td>Кузнецова Анна</td>\n",
       "        </tr>\n",
       "        <tr>\n",
       "            <td>Морозова Наталья</td>\n",
       "        </tr>\n",
       "    </tbody>\n",
       "</table>"
      ],
      "text/plain": [
       "[('Иванов Петр',),\n",
       " ('Сергеева Ольга',),\n",
       " ('Петров Дмитрий',),\n",
       " ('Кузнецова Анна',),\n",
       " ('Морозова Наталья',)]"
      ]
     },
     "execution_count": 11,
     "metadata": {},
     "output_type": "execute_result"
    }
   ],
   "source": [
    "%%sql\n",
    "SELECT name \n",
    "FROM Client\n",
    "WHERE id IN (\n",
    "    SELECT DISTINCT ID_Client \n",
    "    FROM DEAL\n",
    "    WHERE julianday(Date(\"now\")) - julianday(date) < 70\n",
    ")"
   ]
  },
  {
   "cell_type": "code",
   "execution_count": 31,
   "id": "7c9fb88f-431c-474a-8210-49dafd672ebb",
   "metadata": {},
   "outputs": [
    {
     "name": "stdout",
     "output_type": "stream",
     "text": [
      " * sqlite:///my_database2.db\n",
      "Done.\n"
     ]
    },
    {
     "data": {
      "text/html": [
       "<table>\n",
       "    <thead>\n",
       "        <tr>\n",
       "            <th>name</th>\n",
       "            <th>price</th>\n",
       "        </tr>\n",
       "    </thead>\n",
       "    <tbody>\n",
       "        <tr>\n",
       "            <td>Футбольный мяч</td>\n",
       "            <td>50</td>\n",
       "        </tr>\n",
       "        <tr>\n",
       "            <td>Футбольный мяч</td>\n",
       "            <td>55</td>\n",
       "        </tr>\n",
       "        <tr>\n",
       "            <td>Наушники</td>\n",
       "            <td>100</td>\n",
       "        </tr>\n",
       "    </tbody>\n",
       "</table>"
      ],
      "text/plain": [
       "[('Футбольный мяч', 50), ('Футбольный мяч', 55), ('Наушники', 100)]"
      ]
     },
     "execution_count": 31,
     "metadata": {},
     "output_type": "execute_result"
    }
   ],
   "source": [
    "# %%sql \n",
    "# SELECT name, price\n",
    "# FROM Product INNER JOIN Store ON Product.id = Store.ID_Product\n",
    "# WHERE (name LIKE \"Ф%\" OR name LIKE \"Н%\") AND price < (SELECT MAX(price) FROM Store) * 0.2"
   ]
  },
  {
   "cell_type": "code",
   "execution_count": 51,
   "id": "ddb76da3-13ad-4355-95b2-4b76c83cbf9a",
   "metadata": {},
   "outputs": [
    {
     "name": "stdout",
     "output_type": "stream",
     "text": [
      " * sqlite:///my_database2.db\n",
      "Done.\n"
     ]
    },
    {
     "data": {
      "text/html": [
       "<table>\n",
       "    <thead>\n",
       "        <tr>\n",
       "            <th>name</th>\n",
       "        </tr>\n",
       "    </thead>\n",
       "    <tbody>\n",
       "        <tr>\n",
       "            <td>Футбольный мяч</td>\n",
       "        </tr>\n",
       "        <tr>\n",
       "            <td>Футбольный мяч</td>\n",
       "        </tr>\n",
       "        <tr>\n",
       "            <td>Наушники</td>\n",
       "        </tr>\n",
       "    </tbody>\n",
       "</table>"
      ],
      "text/plain": [
       "[('Футбольный мяч',), ('Футбольный мяч',), ('Наушники',)]"
      ]
     },
     "execution_count": 51,
     "metadata": {},
     "output_type": "execute_result"
    }
   ],
   "source": [
    "# %%sql\n",
    "# SELECT (SELECT name FROM Product WHERE id = ID_Product) as name \n",
    "# FROM Store\n",
    "# WHERE (name LIKE \"Ф%\" OR name LIKE \"Н%\") AND price < (SELECT MAX(price) FROM Store) * 0.2"
   ]
  },
  {
   "cell_type": "code",
   "execution_count": null,
   "id": "9c71eb60-b214-43d0-8652-abbce3c20335",
   "metadata": {},
   "outputs": [],
   "source": [
    "# 5) Вывести список товаров, названия которых начинающиеся с букв «д» и «л»,\n",
    "# стоимость которых не более 20% от максимальной"
   ]
  },
  {
   "cell_type": "code",
   "execution_count": 4,
   "id": "f57c5376-130b-418a-be4a-11bb4436e68d",
   "metadata": {},
   "outputs": [
    {
     "name": "stdout",
     "output_type": "stream",
     "text": [
      " * sqlite:///my_database2.db\n",
      "Done.\n"
     ]
    },
    {
     "data": {
      "text/html": [
       "<table>\n",
       "    <thead>\n",
       "        <tr>\n",
       "            <th>name</th>\n",
       "        </tr>\n",
       "    </thead>\n",
       "    <tbody>\n",
       "    </tbody>\n",
       "</table>"
      ],
      "text/plain": [
       "[]"
      ]
     },
     "execution_count": 4,
     "metadata": {},
     "output_type": "execute_result"
    }
   ],
   "source": [
    "%%sql\n",
    "SELECT name \n",
    "FROM Product \n",
    "WHERE id IN (\n",
    "    SELECT ID_Product\n",
    "    FROM Store\n",
    "    WHERE price <= (SELECT MAX(price) FROM Store) * 0.2\n",
    ") AND name LIKE \"[Д]%\""
   ]
  },
  {
   "cell_type": "code",
   "execution_count": 41,
   "id": "ecc4a91b-56d8-41b2-b6aa-51c5ea90dce9",
   "metadata": {},
   "outputs": [
    {
     "name": "stdout",
     "output_type": "stream",
     "text": [
      " * sqlite:///my_database2.db\n",
      "Done.\n"
     ]
    },
    {
     "data": {
      "text/html": [
       "<table>\n",
       "    <thead>\n",
       "        <tr>\n",
       "            <th>name</th>\n",
       "        </tr>\n",
       "    </thead>\n",
       "    <tbody>\n",
       "        <tr>\n",
       "            <td>Компания A</td>\n",
       "        </tr>\n",
       "        <tr>\n",
       "            <td>Компания B</td>\n",
       "        </tr>\n",
       "        <tr>\n",
       "            <td>Компания C</td>\n",
       "        </tr>\n",
       "    </tbody>\n",
       "</table>"
      ],
      "text/plain": [
       "[('Компания A',), ('Компания B',), ('Компания C',)]"
      ]
     },
     "execution_count": 41,
     "metadata": {},
     "output_type": "execute_result"
    }
   ],
   "source": [
    "# %%sql \n",
    "# SELECT DISTINCT Provider.name\n",
    "# FROM Store \n",
    "# INNER JOIN Provider ON Store.ID_Provider = Provider.id\n",
    "# INNER JOIN Product ON Store.ID_Product = Product.id\n",
    "# WHERE Product.name NOT LIKE 'З%' AND Product.name NOT LIKE 'С%'"
   ]
  },
  {
   "cell_type": "code",
   "execution_count": 94,
   "id": "9f849887-0fc1-4a31-b92f-7f788f55d5c8",
   "metadata": {},
   "outputs": [
    {
     "name": "stdout",
     "output_type": "stream",
     "text": [
      " * sqlite:///my_database2.db\n",
      "Done.\n"
     ]
    },
    {
     "data": {
      "text/html": [
       "<table>\n",
       "    <thead>\n",
       "        <tr>\n",
       "            <th>name</th>\n",
       "        </tr>\n",
       "    </thead>\n",
       "    <tbody>\n",
       "        <tr>\n",
       "            <td>Компания C</td>\n",
       "        </tr>\n",
       "    </tbody>\n",
       "</table>"
      ],
      "text/plain": [
       "[('Компания C',)]"
      ]
     },
     "execution_count": 94,
     "metadata": {},
     "output_type": "execute_result"
    }
   ],
   "source": [
    "# %%sql\n",
    "# SELECT DISTINCT (SELECT name FROM Provider WHERE id = ID_Provider) as name\n",
    "# FROM Store\n",
    "# WHERE ID_Provider NOT IN (\n",
    "#     SELECT ID_Provider\n",
    "#     FROM Store \n",
    "#     WHERE (SELECT name FROM Product WHERE id = ID_Product) LIKE 'Фу%'\n",
    "#     )"
   ]
  },
  {
   "cell_type": "code",
   "execution_count": null,
   "id": "6d6bbd9a-af78-49de-8470-f41cbf0912d1",
   "metadata": {},
   "outputs": [],
   "source": [
    "# 6) Вывести поставщиков, которые не поставляют товары, названия которых\n",
    "# начинающиеся с букв «д» и «л»."
   ]
  },
  {
   "cell_type": "code",
   "execution_count": 13,
   "id": "364f343e-ad25-48d3-b925-fce48fd86b74",
   "metadata": {},
   "outputs": [
    {
     "name": "stdout",
     "output_type": "stream",
     "text": [
      " * sqlite:///my_database2.db\n",
      "Done.\n"
     ]
    },
    {
     "data": {
      "text/html": [
       "<table>\n",
       "    <thead>\n",
       "        <tr>\n",
       "            <th>name</th>\n",
       "        </tr>\n",
       "    </thead>\n",
       "    <tbody>\n",
       "        <tr>\n",
       "            <td>Компания C</td>\n",
       "        </tr>\n",
       "        <tr>\n",
       "            <td>ИП Иванов И.И.</td>\n",
       "        </tr>\n",
       "        <tr>\n",
       "            <td>ИП Петров П.П.</td>\n",
       "        </tr>\n",
       "    </tbody>\n",
       "</table>"
      ],
      "text/plain": [
       "[('Компания C',), ('ИП Иванов И.И.',), ('ИП Петров П.П.',)]"
      ]
     },
     "execution_count": 13,
     "metadata": {},
     "output_type": "execute_result"
    }
   ],
   "source": [
    "%%sql\n",
    "SELECT DISTINCT name \n",
    "FROM Provider\n",
    "WHERE id NOT IN (\n",
    "    SELECT ID_Provider \n",
    "    FROM Store\n",
    "    WHERE ID_Product IN (\n",
    "        SELECT id\n",
    "        FROM Product \n",
    "        WHERE name LIKE \"Фу%\" OR name LIKE \"Фе%\"\n",
    "    )\n",
    ")"
   ]
  },
  {
   "cell_type": "code",
   "execution_count": 14,
   "id": "d36952a9-21c2-4aa6-88ed-3b54ab3c7c3a",
   "metadata": {},
   "outputs": [
    {
     "name": "stdout",
     "output_type": "stream",
     "text": [
      " * sqlite:///my_database2.db\n",
      "Done.\n"
     ]
    },
    {
     "data": {
      "text/html": [
       "<table>\n",
       "    <thead>\n",
       "        <tr>\n",
       "            <th>name</th>\n",
       "            <th>sex</th>\n",
       "        </tr>\n",
       "    </thead>\n",
       "    <tbody>\n",
       "        <tr>\n",
       "            <td>Иванов Петр</td>\n",
       "            <td>м</td>\n",
       "        </tr>\n",
       "        <tr>\n",
       "            <td>Смирнова Елена</td>\n",
       "            <td>ж</td>\n",
       "        </tr>\n",
       "        <tr>\n",
       "            <td>Козлов Александр</td>\n",
       "            <td>м</td>\n",
       "        </tr>\n",
       "        <tr>\n",
       "            <td>Попова Марина</td>\n",
       "            <td>ж</td>\n",
       "        </tr>\n",
       "        <tr>\n",
       "            <td>Николаев Андрей</td>\n",
       "            <td>м</td>\n",
       "        </tr>\n",
       "        <tr>\n",
       "            <td>Сергеева Ольга</td>\n",
       "            <td>ж</td>\n",
       "        </tr>\n",
       "        <tr>\n",
       "            <td>Петров Дмитрий</td>\n",
       "            <td>м</td>\n",
       "        </tr>\n",
       "        <tr>\n",
       "            <td>Кузнецова Анна</td>\n",
       "            <td>ж</td>\n",
       "        </tr>\n",
       "        <tr>\n",
       "            <td>Жуков Игорь</td>\n",
       "            <td>м</td>\n",
       "        </tr>\n",
       "        <tr>\n",
       "            <td>Морозова Наталья</td>\n",
       "            <td>ж</td>\n",
       "        </tr>\n",
       "        <tr>\n",
       "            <td>Вованов Петр</td>\n",
       "            <td>м</td>\n",
       "        </tr>\n",
       "        <tr>\n",
       "            <td>|ованов Петр</td>\n",
       "            <td>м</td>\n",
       "        </tr>\n",
       "    </tbody>\n",
       "</table>"
      ],
      "text/plain": [
       "[('Иванов Петр', 'м'),\n",
       " ('Смирнова Елена', 'ж'),\n",
       " ('Козлов Александр', 'м'),\n",
       " ('Попова Марина', 'ж'),\n",
       " ('Николаев Андрей', 'м'),\n",
       " ('Сергеева Ольга', 'ж'),\n",
       " ('Петров Дмитрий', 'м'),\n",
       " ('Кузнецова Анна', 'ж'),\n",
       " ('Жуков Игорь', 'м'),\n",
       " ('Морозова Наталья', 'ж'),\n",
       " ('Вованов Петр', 'м'),\n",
       " ('|ованов Петр', 'м')]"
      ]
     },
     "execution_count": 14,
     "metadata": {},
     "output_type": "execute_result"
    }
   ],
   "source": [
    "%%sql\n",
    "SELECT name, sex FROM Client"
   ]
  },
  {
   "cell_type": "code",
   "execution_count": 5,
   "id": "0ca7b844-3eb6-4a50-842e-583276abb999",
   "metadata": {},
   "outputs": [
    {
     "name": "stdout",
     "output_type": "stream",
     "text": [
      " * sqlite:///my_database2.db\n",
      "Done.\n"
     ]
    },
    {
     "data": {
      "text/html": [
       "<table>\n",
       "    <thead>\n",
       "        <tr>\n",
       "            <th>name</th>\n",
       "            <th>sex_name</th>\n",
       "        </tr>\n",
       "    </thead>\n",
       "    <tbody>\n",
       "        <tr>\n",
       "            <td>Иванов Петр</td>\n",
       "            <td>мужчина</td>\n",
       "        </tr>\n",
       "        <tr>\n",
       "            <td>Смирнова Елена</td>\n",
       "            <td>женщина</td>\n",
       "        </tr>\n",
       "        <tr>\n",
       "            <td>Козлов Александр</td>\n",
       "            <td>мужчина</td>\n",
       "        </tr>\n",
       "        <tr>\n",
       "            <td>Попова Марина</td>\n",
       "            <td>женщина</td>\n",
       "        </tr>\n",
       "        <tr>\n",
       "            <td>Николаев Андрей</td>\n",
       "            <td>мужчина</td>\n",
       "        </tr>\n",
       "        <tr>\n",
       "            <td>Сергеева Ольга</td>\n",
       "            <td>женщина</td>\n",
       "        </tr>\n",
       "        <tr>\n",
       "            <td>Петров Дмитрий</td>\n",
       "            <td>мужчина</td>\n",
       "        </tr>\n",
       "        <tr>\n",
       "            <td>Кузнецова Анна</td>\n",
       "            <td>женщина</td>\n",
       "        </tr>\n",
       "        <tr>\n",
       "            <td>Жуков Игорь</td>\n",
       "            <td>мужчина</td>\n",
       "        </tr>\n",
       "        <tr>\n",
       "            <td>Морозова Наталья</td>\n",
       "            <td>женщина</td>\n",
       "        </tr>\n",
       "        <tr>\n",
       "            <td>Вованов Петр</td>\n",
       "            <td>мужчина</td>\n",
       "        </tr>\n",
       "        <tr>\n",
       "            <td>|ованов Петр</td>\n",
       "            <td>мужчина</td>\n",
       "        </tr>\n",
       "    </tbody>\n",
       "</table>"
      ],
      "text/plain": [
       "[('Иванов Петр', 'мужчина'),\n",
       " ('Смирнова Елена', 'женщина'),\n",
       " ('Козлов Александр', 'мужчина'),\n",
       " ('Попова Марина', 'женщина'),\n",
       " ('Николаев Андрей', 'мужчина'),\n",
       " ('Сергеева Ольга', 'женщина'),\n",
       " ('Петров Дмитрий', 'мужчина'),\n",
       " ('Кузнецова Анна', 'женщина'),\n",
       " ('Жуков Игорь', 'мужчина'),\n",
       " ('Морозова Наталья', 'женщина'),\n",
       " ('Вованов Петр', 'мужчина'),\n",
       " ('|ованов Петр', 'мужчина')]"
      ]
     },
     "execution_count": 5,
     "metadata": {},
     "output_type": "execute_result"
    }
   ],
   "source": [
    "%%sql\n",
    "SELECT \n",
    "    name,\n",
    "    CASE \n",
    "        WHEN sex = 'ж' THEN 'женщина'\n",
    "        WHEN sex = 'м' THEN 'мужчина'\n",
    "        ELSE 'не указан'\n",
    "    END AS sex_name\n",
    "FROM Client;"
   ]
  },
  {
   "cell_type": "code",
   "execution_count": null,
   "id": "1480f5db-a120-46c3-a3fc-3e97cb9379b1",
   "metadata": {},
   "outputs": [],
   "source": []
  }
 ],
 "metadata": {
  "kernelspec": {
   "display_name": "Python 3 (ipykernel)",
   "language": "python",
   "name": "python3"
  },
  "language_info": {
   "codemirror_mode": {
    "name": "ipython",
    "version": 3
   },
   "file_extension": ".py",
   "mimetype": "text/x-python",
   "name": "python",
   "nbconvert_exporter": "python",
   "pygments_lexer": "ipython3",
   "version": "3.13.2"
  }
 },
 "nbformat": 4,
 "nbformat_minor": 5
}
