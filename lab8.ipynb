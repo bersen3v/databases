{
 "cells": [
  {
   "cell_type": "code",
   "execution_count": 1,
   "id": "aa760a75-9777-4e01-9ac6-962118eba9ed",
   "metadata": {},
   "outputs": [],
   "source": [
    "import sqlite3\n",
    "%config SqlMagic.style = '_DEPRECATED_DEFAULT'\n",
    "connection = sqlite3.connect('my_database2.db')\n",
    "%load_ext sql\n",
    "%sql sqlite:///my_database2.db"
   ]
  },
  {
   "cell_type": "code",
   "execution_count": null,
   "id": "dbc005f2-3640-4994-9f6c-a59a96befec5",
   "metadata": {},
   "outputs": [],
   "source": [
    "# 1. Провести оценку количества товара на складе по наименованиям: менее 10 – мало,\n",
    "# от 10 до 100 – достаточно, более 100 – избыточно."
   ]
  },
  {
   "cell_type": "code",
   "execution_count": 15,
   "id": "b9c10434-7784-469b-bb7c-7d9a635cd788",
   "metadata": {},
   "outputs": [
    {
     "name": "stdout",
     "output_type": "stream",
     "text": [
      " * sqlite:///my_database2.db\n",
      "Done.\n"
     ]
    },
    {
     "data": {
      "text/html": [
       "<table>\n",
       "    <thead>\n",
       "        <tr>\n",
       "            <th>name</th>\n",
       "            <th>quantity</th>\n",
       "            <th>state</th>\n",
       "        </tr>\n",
       "    </thead>\n",
       "    <tbody>\n",
       "        <tr>\n",
       "            <td>Футбольный мяч</td>\n",
       "            <td>100</td>\n",
       "            <td>достаточно</td>\n",
       "        </tr>\n",
       "        <tr>\n",
       "            <td>Ноутбук</td>\n",
       "            <td>50</td>\n",
       "            <td>достаточно</td>\n",
       "        </tr>\n",
       "        <tr>\n",
       "            <td>Зонтик</td>\n",
       "            <td>200</td>\n",
       "            <td>избыточно</td>\n",
       "        </tr>\n",
       "        <tr>\n",
       "            <td>Фотоаппарат</td>\n",
       "            <td>30</td>\n",
       "            <td>достаточно</td>\n",
       "        </tr>\n",
       "        <tr>\n",
       "            <td>Сумка</td>\n",
       "            <td>0</td>\n",
       "            <td>мало</td>\n",
       "        </tr>\n",
       "        <tr>\n",
       "            <td>Наушники</td>\n",
       "            <td>100</td>\n",
       "            <td>достаточно</td>\n",
       "        </tr>\n",
       "        <tr>\n",
       "            <td>Книга</td>\n",
       "            <td>150</td>\n",
       "            <td>избыточно</td>\n",
       "        </tr>\n",
       "    </tbody>\n",
       "</table>"
      ],
      "text/plain": [
       "[('Футбольный мяч', 100, 'достаточно'),\n",
       " ('Ноутбук', 50, 'достаточно'),\n",
       " ('Зонтик', 200, 'избыточно'),\n",
       " ('Фотоаппарат', 30, 'достаточно'),\n",
       " ('Сумка', 0, 'мало'),\n",
       " ('Наушники', 100, 'достаточно'),\n",
       " ('Книга', 150, 'избыточно')]"
      ]
     },
     "execution_count": 15,
     "metadata": {},
     "output_type": "execute_result"
    }
   ],
   "source": [
    "%%sql\n",
    "SELECT\n",
    "    Product.name,\n",
    "    quantity,\n",
    "    CASE\n",
    "        WHEN quantity < 10 THEN \"мало\"\n",
    "        WHEN quantity BETWEEN 10 AND 100 THEN \"достаточно\"\n",
    "        ELSE \"избыточно\"\n",
    "    END as state\n",
    "FROM Store\n",
    "INNER JOIN Product ON ID_Product = Product.id\n",
    "GROUP BY ID_Product"
   ]
  },
  {
   "cell_type": "code",
   "execution_count": null,
   "id": "e7343470-ff46-47b4-8190-8dcc358e17be",
   "metadata": {},
   "outputs": [],
   "source": [
    "# 2. Вывести наименования товаров, количество которых на складе от 1 до 10."
   ]
  },
  {
   "cell_type": "code",
   "execution_count": 47,
   "id": "2fc61dad-4abc-4b13-86d2-4f0b3bbf7994",
   "metadata": {},
   "outputs": [
    {
     "name": "stdout",
     "output_type": "stream",
     "text": [
      " * sqlite:///my_database2.db\n",
      "Done.\n"
     ]
    },
    {
     "data": {
      "text/html": [
       "<table>\n",
       "    <thead>\n",
       "        <tr>\n",
       "            <th>name</th>\n",
       "            <th>quantity</th>\n",
       "        </tr>\n",
       "    </thead>\n",
       "    <tbody>\n",
       "        <tr>\n",
       "            <td>Футбольный мяч</td>\n",
       "            <td>100</td>\n",
       "        </tr>\n",
       "        <tr>\n",
       "            <td>Ноутбук</td>\n",
       "            <td>50</td>\n",
       "        </tr>\n",
       "        <tr>\n",
       "            <td>Фотоаппарат</td>\n",
       "            <td>30</td>\n",
       "        </tr>\n",
       "        <tr>\n",
       "            <td>Наушники</td>\n",
       "            <td>100</td>\n",
       "        </tr>\n",
       "    </tbody>\n",
       "</table>"
      ],
      "text/plain": [
       "[('Футбольный мяч', 100),\n",
       " ('Ноутбук', 50),\n",
       " ('Фотоаппарат', 30),\n",
       " ('Наушники', 100)]"
      ]
     },
     "execution_count": 47,
     "metadata": {},
     "output_type": "execute_result"
    }
   ],
   "source": [
    "%%sql\n",
    "SELECT name, quantity FROM Store\n",
    "INNER JOIN Product ON ID_Product = Product.id\n",
    "GROUP BY ID_Product\n",
    "HAVING quantity BETWEEN 1 AND 100"
   ]
  },
  {
   "cell_type": "code",
   "execution_count": null,
   "id": "8c265000-d8fe-4d23-bd16-a487b385bafd",
   "metadata": {},
   "outputs": [],
   "source": [
    "# 3. Определить тройку товаров, выручка за которые самая большая."
   ]
  },
  {
   "cell_type": "code",
   "execution_count": 44,
   "id": "7cae7334-b05e-4d33-a56e-28ae8d2fdc2b",
   "metadata": {},
   "outputs": [
    {
     "name": "stdout",
     "output_type": "stream",
     "text": [
      " * sqlite:///my_database2.db\n",
      "Done.\n"
     ]
    },
    {
     "data": {
      "text/html": [
       "<table>\n",
       "    <thead>\n",
       "        <tr>\n",
       "            <th>name</th>\n",
       "            <th>revenue</th>\n",
       "        </tr>\n",
       "    </thead>\n",
       "    <tbody>\n",
       "        <tr>\n",
       "            <td>Ноутбук</td>\n",
       "            <td>6400</td>\n",
       "        </tr>\n",
       "        <tr>\n",
       "            <td>Футбольный мяч</td>\n",
       "            <td>250</td>\n",
       "        </tr>\n",
       "    </tbody>\n",
       "</table>"
      ],
      "text/plain": [
       "[('Ноутбук', 6400), ('Футбольный мяч', 250)]"
      ]
     },
     "execution_count": 44,
     "metadata": {},
     "output_type": "execute_result"
    }
   ],
   "source": [
    "%%sql\n",
    "SELECT Product.name, (Store.price * Deal.quantity) as revenue FROM Deal\n",
    "INNER JOIN Store ON ID_Store = Store.id\n",
    "INNER JOIN Product ON ID_Product = Product.id\n",
    "GROUP BY ID_Product\n",
    "ORDER BY revenue DESC\n",
    "LIMIT 3"
   ]
  },
  {
   "cell_type": "code",
   "execution_count": 32,
   "id": "bf4d929c-776b-4506-bb06-2a1ee3715b75",
   "metadata": {},
   "outputs": [
    {
     "name": "stdout",
     "output_type": "stream",
     "text": [
      " * sqlite:///my_database2.db\n",
      "Done.\n"
     ]
    },
    {
     "data": {
      "text/html": [
       "<table>\n",
       "    <thead>\n",
       "        <tr>\n",
       "            <th>id</th>\n",
       "            <th>ID_Provider</th>\n",
       "            <th>ID_Product</th>\n",
       "            <th>quantity</th>\n",
       "            <th>price</th>\n",
       "            <th>date</th>\n",
       "        </tr>\n",
       "    </thead>\n",
       "    <tbody>\n",
       "        <tr>\n",
       "            <td>1</td>\n",
       "            <td>1</td>\n",
       "            <td>1</td>\n",
       "            <td>100</td>\n",
       "            <td>50</td>\n",
       "            <td>2025-01-10</td>\n",
       "        </tr>\n",
       "        <tr>\n",
       "            <td>2</td>\n",
       "            <td>2</td>\n",
       "            <td>1</td>\n",
       "            <td>150</td>\n",
       "            <td>55</td>\n",
       "            <td>2025-02-15</td>\n",
       "        </tr>\n",
       "        <tr>\n",
       "            <td>3</td>\n",
       "            <td>1</td>\n",
       "            <td>2</td>\n",
       "            <td>50</td>\n",
       "            <td>800</td>\n",
       "            <td>2025-01-05</td>\n",
       "        </tr>\n",
       "        <tr>\n",
       "            <td>4</td>\n",
       "            <td>3</td>\n",
       "            <td>2</td>\n",
       "            <td>70</td>\n",
       "            <td>750</td>\n",
       "            <td>2025-03-20</td>\n",
       "        </tr>\n",
       "        <tr>\n",
       "            <td>5</td>\n",
       "            <td>2</td>\n",
       "            <td>3</td>\n",
       "            <td>200</td>\n",
       "            <td>15</td>\n",
       "            <td>2025-01-20</td>\n",
       "        </tr>\n",
       "        <tr>\n",
       "            <td>6</td>\n",
       "            <td>3</td>\n",
       "            <td>4</td>\n",
       "            <td>30</td>\n",
       "            <td>1200</td>\n",
       "            <td>2025-01-30</td>\n",
       "        </tr>\n",
       "        <tr>\n",
       "            <td>7</td>\n",
       "            <td>1</td>\n",
       "            <td>4</td>\n",
       "            <td>40</td>\n",
       "            <td>1250</td>\n",
       "            <td>2025-02-10</td>\n",
       "        </tr>\n",
       "        <tr>\n",
       "            <td>8</td>\n",
       "            <td>1</td>\n",
       "            <td>4</td>\n",
       "            <td>200</td>\n",
       "            <td>1350</td>\n",
       "            <td>2025-02-10</td>\n",
       "        </tr>\n",
       "        <tr>\n",
       "            <td>9</td>\n",
       "            <td>1</td>\n",
       "            <td>5</td>\n",
       "            <td>0</td>\n",
       "            <td>50</td>\n",
       "            <td>2025-03-05</td>\n",
       "        </tr>\n",
       "        <tr>\n",
       "            <td>10</td>\n",
       "            <td>2</td>\n",
       "            <td>6</td>\n",
       "            <td>100</td>\n",
       "            <td>100</td>\n",
       "            <td>2025-02-28</td>\n",
       "        </tr>\n",
       "        <tr>\n",
       "            <td>11</td>\n",
       "            <td>2</td>\n",
       "            <td>7</td>\n",
       "            <td>150</td>\n",
       "            <td>10</td>\n",
       "            <td>2025-01-15</td>\n",
       "        </tr>\n",
       "    </tbody>\n",
       "</table>"
      ],
      "text/plain": [
       "[(1, 1, 1, 100, 50, '2025-01-10'),\n",
       " (2, 2, 1, 150, 55, '2025-02-15'),\n",
       " (3, 1, 2, 50, 800, '2025-01-05'),\n",
       " (4, 3, 2, 70, 750, '2025-03-20'),\n",
       " (5, 2, 3, 200, 15, '2025-01-20'),\n",
       " (6, 3, 4, 30, 1200, '2025-01-30'),\n",
       " (7, 1, 4, 40, 1250, '2025-02-10'),\n",
       " (8, 1, 4, 200, 1350, '2025-02-10'),\n",
       " (9, 1, 5, 0, 50, '2025-03-05'),\n",
       " (10, 2, 6, 100, 100, '2025-02-28'),\n",
       " (11, 2, 7, 150, 10, '2025-01-15')]"
      ]
     },
     "execution_count": 32,
     "metadata": {},
     "output_type": "execute_result"
    }
   ],
   "source": [
    "# Определить суммарную стоимость продаж каждого товара по месяцам."
   ]
  },
  {
   "cell_type": "code",
   "execution_count": null,
   "id": "29578212-3b75-471d-8b28-33a0112221b1",
   "metadata": {},
   "outputs": [],
   "source": []
  }
 ],
 "metadata": {
  "kernelspec": {
   "display_name": "Python 3 (ipykernel)",
   "language": "python",
   "name": "python3"
  },
  "language_info": {
   "codemirror_mode": {
    "name": "ipython",
    "version": 3
   },
   "file_extension": ".py",
   "mimetype": "text/x-python",
   "name": "python",
   "nbconvert_exporter": "python",
   "pygments_lexer": "ipython3",
   "version": "3.12.7"
  }
 },
 "nbformat": 4,
 "nbformat_minor": 5
}
