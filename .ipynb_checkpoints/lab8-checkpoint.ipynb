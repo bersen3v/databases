{
 "cells": [
  {
   "cell_type": "code",
   "execution_count": 4,
   "id": "aa760a75-9777-4e01-9ac6-962118eba9ed",
   "metadata": {},
   "outputs": [],
   "source": [
    "import sqlite3\n",
    "%config SqlMagic.style = '_DEPRECATED_DEFAULT'\n",
    "connection = sqlite3.connect('my_database2.db')\n",
    "%load_ext sql\n",
    "%sql sqlite:///my_database2.db"
   ]
  },
  {
   "cell_type": "code",
   "execution_count": null,
   "id": "dbc005f2-3640-4994-9f6c-a59a96befec5",
   "metadata": {},
   "outputs": [],
   "source": [
    "# 1. Провести оценку количества товара на складе по наименованиям: менее 10 – мало,\n",
    "# от 10 до 100 – достаточно, более 100 – избыточно."
   ]
  },
  {
   "cell_type": "code",
   "execution_count": 15,
   "id": "b9c10434-7784-469b-bb7c-7d9a635cd788",
   "metadata": {},
   "outputs": [
    {
     "name": "stdout",
     "output_type": "stream",
     "text": [
      " * sqlite:///my_database2.db\n",
      "Done.\n"
     ]
    },
    {
     "data": {
      "text/html": [
       "<table>\n",
       "    <thead>\n",
       "        <tr>\n",
       "            <th>name</th>\n",
       "            <th>quantity</th>\n",
       "            <th>state</th>\n",
       "        </tr>\n",
       "    </thead>\n",
       "    <tbody>\n",
       "        <tr>\n",
       "            <td>Футбольный мяч</td>\n",
       "            <td>100</td>\n",
       "            <td>достаточно</td>\n",
       "        </tr>\n",
       "        <tr>\n",
       "            <td>Ноутбук</td>\n",
       "            <td>50</td>\n",
       "            <td>достаточно</td>\n",
       "        </tr>\n",
       "        <tr>\n",
       "            <td>Зонтик</td>\n",
       "            <td>200</td>\n",
       "            <td>избыточно</td>\n",
       "        </tr>\n",
       "        <tr>\n",
       "            <td>Фотоаппарат</td>\n",
       "            <td>30</td>\n",
       "            <td>достаточно</td>\n",
       "        </tr>\n",
       "        <tr>\n",
       "            <td>Сумка</td>\n",
       "            <td>0</td>\n",
       "            <td>мало</td>\n",
       "        </tr>\n",
       "        <tr>\n",
       "            <td>Наушники</td>\n",
       "            <td>100</td>\n",
       "            <td>достаточно</td>\n",
       "        </tr>\n",
       "        <tr>\n",
       "            <td>Книга</td>\n",
       "            <td>150</td>\n",
       "            <td>избыточно</td>\n",
       "        </tr>\n",
       "    </tbody>\n",
       "</table>"
      ],
      "text/plain": [
       "[('Футбольный мяч', 100, 'достаточно'),\n",
       " ('Ноутбук', 50, 'достаточно'),\n",
       " ('Зонтик', 200, 'избыточно'),\n",
       " ('Фотоаппарат', 30, 'достаточно'),\n",
       " ('Сумка', 0, 'мало'),\n",
       " ('Наушники', 100, 'достаточно'),\n",
       " ('Книга', 150, 'избыточно')]"
      ]
     },
     "execution_count": 15,
     "metadata": {},
     "output_type": "execute_result"
    }
   ],
   "source": [
    "%%sql\n",
    "SELECT\n",
    "    Product.name,\n",
    "    quantity,\n",
    "    CASE\n",
    "        WHEN quantity < 10 THEN \"мало\"\n",
    "        WHEN quantity BETWEEN 10 AND 100 THEN \"достаточно\"\n",
    "        ELSE \"избыточно\"\n",
    "    END as state\n",
    "FROM Store\n",
    "INNER JOIN Product ON ID_Product = Product.id\n",
    "GROUP BY ID_Product"
   ]
  },
  {
   "cell_type": "code",
   "execution_count": null,
   "id": "e7343470-ff46-47b4-8190-8dcc358e17be",
   "metadata": {},
   "outputs": [],
   "source": [
    "# 2. Вывести наименования товаров, количество которых на складе от 1 до 10."
   ]
  },
  {
   "cell_type": "code",
   "execution_count": 47,
   "id": "2fc61dad-4abc-4b13-86d2-4f0b3bbf7994",
   "metadata": {},
   "outputs": [
    {
     "name": "stdout",
     "output_type": "stream",
     "text": [
      " * sqlite:///my_database2.db\n",
      "Done.\n"
     ]
    },
    {
     "data": {
      "text/html": [
       "<table>\n",
       "    <thead>\n",
       "        <tr>\n",
       "            <th>name</th>\n",
       "            <th>quantity</th>\n",
       "        </tr>\n",
       "    </thead>\n",
       "    <tbody>\n",
       "        <tr>\n",
       "            <td>Футбольный мяч</td>\n",
       "            <td>100</td>\n",
       "        </tr>\n",
       "        <tr>\n",
       "            <td>Ноутбук</td>\n",
       "            <td>50</td>\n",
       "        </tr>\n",
       "        <tr>\n",
       "            <td>Фотоаппарат</td>\n",
       "            <td>30</td>\n",
       "        </tr>\n",
       "        <tr>\n",
       "            <td>Наушники</td>\n",
       "            <td>100</td>\n",
       "        </tr>\n",
       "    </tbody>\n",
       "</table>"
      ],
      "text/plain": [
       "[('Футбольный мяч', 100),\n",
       " ('Ноутбук', 50),\n",
       " ('Фотоаппарат', 30),\n",
       " ('Наушники', 100)]"
      ]
     },
     "execution_count": 47,
     "metadata": {},
     "output_type": "execute_result"
    }
   ],
   "source": [
    "%%sql\n",
    "SELECT name, quantity FROM Store\n",
    "INNER JOIN Product ON ID_Product = Product.id\n",
    "GROUP BY ID_Product\n",
    "HAVING quantity BETWEEN 1 AND 100"
   ]
  },
  {
   "cell_type": "code",
   "execution_count": null,
   "id": "8c265000-d8fe-4d23-bd16-a487b385bafd",
   "metadata": {},
   "outputs": [],
   "source": [
    "# 3. Определить тройку товаров, выручка за которые самая большая."
   ]
  },
  {
   "cell_type": "code",
   "execution_count": 44,
   "id": "7cae7334-b05e-4d33-a56e-28ae8d2fdc2b",
   "metadata": {},
   "outputs": [
    {
     "name": "stdout",
     "output_type": "stream",
     "text": [
      " * sqlite:///my_database2.db\n",
      "Done.\n"
     ]
    },
    {
     "data": {
      "text/html": [
       "<table>\n",
       "    <thead>\n",
       "        <tr>\n",
       "            <th>name</th>\n",
       "            <th>revenue</th>\n",
       "        </tr>\n",
       "    </thead>\n",
       "    <tbody>\n",
       "        <tr>\n",
       "            <td>Ноутбук</td>\n",
       "            <td>6400</td>\n",
       "        </tr>\n",
       "        <tr>\n",
       "            <td>Футбольный мяч</td>\n",
       "            <td>250</td>\n",
       "        </tr>\n",
       "    </tbody>\n",
       "</table>"
      ],
      "text/plain": [
       "[('Ноутбук', 6400), ('Футбольный мяч', 250)]"
      ]
     },
     "execution_count": 44,
     "metadata": {},
     "output_type": "execute_result"
    }
   ],
   "source": [
    "%%sql\n",
    "SELECT Product.name, (Store.price * Deal.quantity) as revenue FROM Deal\n",
    "INNER JOIN Store ON ID_Store = Store.id\n",
    "INNER JOIN Product ON ID_Product = Product.id\n",
    "GROUP BY ID_Product\n",
    "ORDER BY revenue DESC\n",
    "LIMIT 3"
   ]
  },
  {
   "cell_type": "code",
   "execution_count": 1,
   "id": "bf4d929c-776b-4506-bb06-2a1ee3715b75",
   "metadata": {},
   "outputs": [],
   "source": [
    "# Определить суммарную стоимость продаж каждого товара по месяцам."
   ]
  },
  {
   "cell_type": "code",
   "execution_count": 36,
   "id": "29578212-3b75-471d-8b28-33a0112221b1",
   "metadata": {},
   "outputs": [
    {
     "name": "stdout",
     "output_type": "stream",
     "text": [
      " * sqlite:///my_database2.db\n",
      "Done.\n"
     ]
    },
    {
     "data": {
      "text/html": [
       "<table>\n",
       "    <thead>\n",
       "        <tr>\n",
       "            <th>name</th>\n",
       "            <th>year</th>\n",
       "            <th>month</th>\n",
       "            <th>price</th>\n",
       "        </tr>\n",
       "    </thead>\n",
       "    <tbody>\n",
       "        <tr>\n",
       "            <td>Футбольный мяч</td>\n",
       "            <td>2025</td>\n",
       "            <td>01</td>\n",
       "            <td>55</td>\n",
       "        </tr>\n",
       "        <tr>\n",
       "            <td>Футбольный мяч</td>\n",
       "            <td>2025</td>\n",
       "            <td>02</td>\n",
       "            <td>50</td>\n",
       "        </tr>\n",
       "        <tr>\n",
       "            <td>Футбольный мяч</td>\n",
       "            <td>2025</td>\n",
       "            <td>03</td>\n",
       "            <td>50</td>\n",
       "        </tr>\n",
       "        <tr>\n",
       "            <td>Зонтик</td>\n",
       "            <td>2025</td>\n",
       "            <td>07</td>\n",
       "            <td>15</td>\n",
       "        </tr>\n",
       "        <tr>\n",
       "            <td>Фотоаппарат</td>\n",
       "            <td>2025</td>\n",
       "            <td>08</td>\n",
       "            <td>1200</td>\n",
       "        </tr>\n",
       "        <tr>\n",
       "            <td>Фотоаппарат</td>\n",
       "            <td>2025</td>\n",
       "            <td>09</td>\n",
       "            <td>1250</td>\n",
       "        </tr>\n",
       "        <tr>\n",
       "            <td>Ноутбук</td>\n",
       "            <td>2025</td>\n",
       "            <td>10</td>\n",
       "            <td>800</td>\n",
       "        </tr>\n",
       "        <tr>\n",
       "            <td>Футбольный мяч</td>\n",
       "            <td>2025</td>\n",
       "            <td>11</td>\n",
       "            <td>50</td>\n",
       "        </tr>\n",
       "        <tr>\n",
       "            <td>Футбольный мяч</td>\n",
       "            <td>2027</td>\n",
       "            <td>06</td>\n",
       "            <td>55</td>\n",
       "        </tr>\n",
       "        <tr>\n",
       "            <td>Ноутбук</td>\n",
       "            <td>2028</td>\n",
       "            <td>05</td>\n",
       "            <td>800</td>\n",
       "        </tr>\n",
       "        <tr>\n",
       "            <td>Ноутбук</td>\n",
       "            <td>2029</td>\n",
       "            <td>04</td>\n",
       "            <td>800</td>\n",
       "        </tr>\n",
       "    </tbody>\n",
       "</table>"
      ],
      "text/plain": [
       "[('Футбольный мяч', '2025', '01', 55),\n",
       " ('Футбольный мяч', '2025', '02', 50),\n",
       " ('Футбольный мяч', '2025', '03', 50),\n",
       " ('Зонтик', '2025', '07', 15),\n",
       " ('Фотоаппарат', '2025', '08', 1200),\n",
       " ('Фотоаппарат', '2025', '09', 1250),\n",
       " ('Ноутбук', '2025', '10', 800),\n",
       " ('Футбольный мяч', '2025', '11', 50),\n",
       " ('Футбольный мяч', '2027', '06', 55),\n",
       " ('Ноутбук', '2028', '05', 800),\n",
       " ('Ноутбук', '2029', '04', 800)]"
      ]
     },
     "execution_count": 36,
     "metadata": {},
     "output_type": "execute_result"
    }
   ],
   "source": [
    "%%sql\n",
    "SELECT \n",
    "    Product.name, \n",
    "    strftime('%Y', Deal.date) as year, \n",
    "    strftime('%m', Deal.date) as month, \n",
    "    price \n",
    "FROM Deal\n",
    "INNER JOIN Store ON ID_Store = Store.id\n",
    "INNER JOIN Product ON ID_Product = Product.id\n",
    "GROUP by month\n",
    "ORDER BY year, month"
   ]
  },
  {
   "cell_type": "code",
   "execution_count": 63,
   "id": "5fd297be-9c70-42bb-bbbb-e2288069ba19",
   "metadata": {},
   "outputs": [
    {
     "name": "stdout",
     "output_type": "stream",
     "text": [
      " * sqlite:///my_database2.db\n",
      "Done.\n"
     ]
    },
    {
     "data": {
      "text/html": [
       "<table>\n",
       "    <thead>\n",
       "        <tr>\n",
       "            <th>name</th>\n",
       "            <th>year</th>\n",
       "            <th>monthName</th>\n",
       "            <th>price</th>\n",
       "        </tr>\n",
       "    </thead>\n",
       "    <tbody>\n",
       "        <tr>\n",
       "            <td>Футбольный мяч</td>\n",
       "            <td>2025</td>\n",
       "            <td>Январь</td>\n",
       "            <td>55</td>\n",
       "        </tr>\n",
       "        <tr>\n",
       "            <td>Футбольный мяч</td>\n",
       "            <td>2025</td>\n",
       "            <td>Февраль</td>\n",
       "            <td>50</td>\n",
       "        </tr>\n",
       "        <tr>\n",
       "            <td>Футбольный мяч</td>\n",
       "            <td>2025</td>\n",
       "            <td>Март</td>\n",
       "            <td>50</td>\n",
       "        </tr>\n",
       "        <tr>\n",
       "            <td>Зонтик</td>\n",
       "            <td>2025</td>\n",
       "            <td>Июль</td>\n",
       "            <td>15</td>\n",
       "        </tr>\n",
       "        <tr>\n",
       "            <td>Фотоаппарат</td>\n",
       "            <td>2025</td>\n",
       "            <td>Август</td>\n",
       "            <td>1200</td>\n",
       "        </tr>\n",
       "        <tr>\n",
       "            <td>Фотоаппарат</td>\n",
       "            <td>2025</td>\n",
       "            <td>Сентябрь</td>\n",
       "            <td>1250</td>\n",
       "        </tr>\n",
       "        <tr>\n",
       "            <td>Ноутбук</td>\n",
       "            <td>2025</td>\n",
       "            <td>Октябрь</td>\n",
       "            <td>800</td>\n",
       "        </tr>\n",
       "        <tr>\n",
       "            <td>Футбольный мяч</td>\n",
       "            <td>2025</td>\n",
       "            <td>Ноябрь</td>\n",
       "            <td>50</td>\n",
       "        </tr>\n",
       "        <tr>\n",
       "            <td>Футбольный мяч</td>\n",
       "            <td>2027</td>\n",
       "            <td>Июнь</td>\n",
       "            <td>55</td>\n",
       "        </tr>\n",
       "        <tr>\n",
       "            <td>Ноутбук</td>\n",
       "            <td>2028</td>\n",
       "            <td>Май</td>\n",
       "            <td>800</td>\n",
       "        </tr>\n",
       "        <tr>\n",
       "            <td>Ноутбук</td>\n",
       "            <td>2029</td>\n",
       "            <td>Апрель</td>\n",
       "            <td>800</td>\n",
       "        </tr>\n",
       "    </tbody>\n",
       "</table>"
      ],
      "text/plain": [
       "[('Футбольный мяч', '2025', 'Январь', 55),\n",
       " ('Футбольный мяч', '2025', 'Февраль', 50),\n",
       " ('Футбольный мяч', '2025', 'Март', 50),\n",
       " ('Зонтик', '2025', 'Июль', 15),\n",
       " ('Фотоаппарат', '2025', 'Август', 1200),\n",
       " ('Фотоаппарат', '2025', 'Сентябрь', 1250),\n",
       " ('Ноутбук', '2025', 'Октябрь', 800),\n",
       " ('Футбольный мяч', '2025', 'Ноябрь', 50),\n",
       " ('Футбольный мяч', '2027', 'Июнь', 55),\n",
       " ('Ноутбук', '2028', 'Май', 800),\n",
       " ('Ноутбук', '2029', 'Апрель', 800)]"
      ]
     },
     "execution_count": 63,
     "metadata": {},
     "output_type": "execute_result"
    }
   ],
   "source": [
    "%%sql\n",
    "SELECT \n",
    "    Product.name, \n",
    "    strftime('%Y', Deal.date) as year, \n",
    "    CASE\n",
    "        WHEN strftime('%m', Deal.date) = \"01\" THEN \"Январь\"\n",
    "        WHEN strftime('%m', Deal.date) = \"02\" THEN \"Февраль\"\n",
    "        WHEN strftime('%m', Deal.date) = \"03\" THEN \"Март\"\n",
    "        WHEN strftime('%m', Deal.date) = \"04\" THEN \"Апрель\"\n",
    "        WHEN strftime('%m', Deal.date) = \"05\" THEN \"Май\"\n",
    "        WHEN strftime('%m', Deal.date) = \"06\" THEN \"Июнь\"\n",
    "        WHEN strftime('%m', Deal.date) = \"07\" THEN \"Июль\"\n",
    "        WHEN strftime('%m', Deal.date) = \"08\" THEN \"Август\"\n",
    "        WHEN strftime('%m', Deal.date) = \"09\" THEN \"Сентябрь\"\n",
    "        WHEN strftime('%m', Deal.date) = \"10\" THEN \"Октябрь\"\n",
    "        WHEN strftime('%m', Deal.date) = \"11\" THEN \"Ноябрь\"\n",
    "        WHEN strftime('%m', Deal.date) = \"12\" THEN \"Декабрь\"\n",
    "        ElSE \"Неизвестный месяц\"\n",
    "    END as monthName,\n",
    "    price \n",
    "FROM Deal\n",
    "INNER JOIN Store ON ID_Store = Store.id\n",
    "INNER JOIN Product ON ID_Product = Product.id\n",
    "GROUP by monthName\n",
    "ORDER BY year, Deal.date"
   ]
  },
  {
   "cell_type": "code",
   "execution_count": 64,
   "id": "307cb892-2fff-4aa1-8b2d-bcab2cf4c24c",
   "metadata": {},
   "outputs": [
    {
     "name": "stdout",
     "output_type": "stream",
     "text": [
      " * sqlite:///my_database2.db\n",
      "Done.\n"
     ]
    },
    {
     "data": {
      "text/html": [
       "<table>\n",
       "    <thead>\n",
       "        <tr>\n",
       "            <th>name</th>\n",
       "            <th>year</th>\n",
       "            <th>monthName</th>\n",
       "            <th>price</th>\n",
       "        </tr>\n",
       "    </thead>\n",
       "    <tbody>\n",
       "        <tr>\n",
       "            <td>Футбольный мяч</td>\n",
       "            <td>2025</td>\n",
       "            <td>Январь</td>\n",
       "            <td>50</td>\n",
       "        </tr>\n",
       "        <tr>\n",
       "            <td>Футбольный мяч</td>\n",
       "            <td>2025</td>\n",
       "            <td>Февраль</td>\n",
       "            <td>50</td>\n",
       "        </tr>\n",
       "        <tr>\n",
       "            <td>Футбольный мяч</td>\n",
       "            <td>2025</td>\n",
       "            <td>Март</td>\n",
       "            <td>50</td>\n",
       "        </tr>\n",
       "        <tr>\n",
       "            <td>Футбольный мяч</td>\n",
       "            <td>2025</td>\n",
       "            <td>Ноябрь</td>\n",
       "            <td>50</td>\n",
       "        </tr>\n",
       "    </tbody>\n",
       "</table>"
      ],
      "text/plain": [
       "[('Футбольный мяч', '2025', 'Январь', 50),\n",
       " ('Футбольный мяч', '2025', 'Февраль', 50),\n",
       " ('Футбольный мяч', '2025', 'Март', 50),\n",
       " ('Футбольный мяч', '2025', 'Ноябрь', 50)]"
      ]
     },
     "execution_count": 64,
     "metadata": {},
     "output_type": "execute_result"
    }
   ],
   "source": [
    "%%sql\n",
    "SELECT \n",
    "    Product.name, \n",
    "    strftime('%Y', Deal.date) as year, \n",
    "    CASE\n",
    "        WHEN strftime('%m', Deal.date) = \"01\" THEN \"Январь\"\n",
    "        WHEN strftime('%m', Deal.date) = \"02\" THEN \"Февраль\"\n",
    "        WHEN strftime('%m', Deal.date) = \"03\" THEN \"Март\"\n",
    "        WHEN strftime('%m', Deal.date) = \"04\" THEN \"Апрель\"\n",
    "        WHEN strftime('%m', Deal.date) = \"05\" THEN \"Май\"\n",
    "        WHEN strftime('%m', Deal.date) = \"06\" THEN \"Июнь\"\n",
    "        WHEN strftime('%m', Deal.date) = \"07\" THEN \"Июль\"\n",
    "        WHEN strftime('%m', Deal.date) = \"08\" THEN \"Август\"\n",
    "        WHEN strftime('%m', Deal.date) = \"09\" THEN \"Сентябрь\"\n",
    "        WHEN strftime('%m', Deal.date) = \"10\" THEN \"Октябрь\"\n",
    "        WHEN strftime('%m', Deal.date) = \"11\" THEN \"Ноябрь\"\n",
    "        WHEN strftime('%m', Deal.date) = \"12\" THEN \"Декабрь\"\n",
    "        ElSE \"Неизвестный месяц\"\n",
    "    END as monthName,\n",
    "    price \n",
    "FROM Deal\n",
    "INNER JOIN Store ON ID_Store = Store.id\n",
    "INNER JOIN Product ON ID_Product = Product.id\n",
    "WHERE price < 54 AND Product.id = 1\n",
    "GROUP by monthName\n",
    "ORDER BY year, Deal.date"
   ]
  },
  {
   "cell_type": "code",
   "execution_count": null,
   "id": "f5e97f10-8305-4ee8-b5a5-9a58dd3b9aa6",
   "metadata": {},
   "outputs": [],
   "source": []
  }
 ],
 "metadata": {
  "kernelspec": {
   "display_name": "Python 3 (ipykernel)",
   "language": "python",
   "name": "python3"
  },
  "language_info": {
   "codemirror_mode": {
    "name": "ipython",
    "version": 3
   },
   "file_extension": ".py",
   "mimetype": "text/x-python",
   "name": "python",
   "nbconvert_exporter": "python",
   "pygments_lexer": "ipython3",
   "version": "3.13.2"
  }
 },
 "nbformat": 4,
 "nbformat_minor": 5
}
