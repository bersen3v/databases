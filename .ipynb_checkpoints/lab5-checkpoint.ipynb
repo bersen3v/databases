{
 "cells": [
  {
   "cell_type": "code",
   "execution_count": 1,
   "id": "00952b5e-b78b-460d-a200-e9b96b385345",
   "metadata": {},
   "outputs": [],
   "source": [
    "import sqlite3\n",
    "%config SqlMagic.style = '_DEPRECATED_DEFAULT'\n",
    "connection = sqlite3.connect('my_database2.db')\n",
    "%load_ext sql\n",
    "%sql sqlite:///my_database2.db"
   ]
  },
  {
   "cell_type": "code",
   "execution_count": 2,
   "id": "e6466635-4dd7-4726-8541-8185461e565b",
   "metadata": {},
   "outputs": [
    {
     "name": "stdout",
     "output_type": "stream",
     "text": [
      " * sqlite:///my_database2.db\n",
      "Done.\n"
     ]
    },
    {
     "data": {
      "text/html": [
       "<table>\n",
       "    <thead>\n",
       "        <tr>\n",
       "            <th>id</th>\n",
       "            <th>name</th>\n",
       "        </tr>\n",
       "    </thead>\n",
       "    <tbody>\n",
       "        <tr>\n",
       "            <td>3</td>\n",
       "            <td>Компания C</td>\n",
       "        </tr>\n",
       "        <tr>\n",
       "            <td>2</td>\n",
       "            <td>Компания B</td>\n",
       "        </tr>\n",
       "        <tr>\n",
       "            <td>1</td>\n",
       "            <td>Компания A</td>\n",
       "        </tr>\n",
       "        <tr>\n",
       "            <td>5</td>\n",
       "            <td>ИП Петров П.П.</td>\n",
       "        </tr>\n",
       "        <tr>\n",
       "            <td>4</td>\n",
       "            <td>ИП Иванов И.И.</td>\n",
       "        </tr>\n",
       "    </tbody>\n",
       "</table>"
      ],
      "text/plain": [
       "[(3, 'Компания C'),\n",
       " (2, 'Компания B'),\n",
       " (1, 'Компания A'),\n",
       " (5, 'ИП Петров П.П.'),\n",
       " (4, 'ИП Иванов И.И.')]"
      ]
     },
     "execution_count": 2,
     "metadata": {},
     "output_type": "execute_result"
    }
   ],
   "source": [
    "#asc по возрастанию\n",
    "#desc по убыванию\n",
    "%sql SELECT * FROM Provider ORDER BY name DESC"
   ]
  },
  {
   "cell_type": "code",
   "execution_count": 3,
   "id": "d4ac3153-d717-4ebe-b1c1-4022c861e887",
   "metadata": {},
   "outputs": [
    {
     "name": "stdout",
     "output_type": "stream",
     "text": [
      " * sqlite:///my_database2.db\n",
      "Done.\n"
     ]
    },
    {
     "data": {
      "text/html": [
       "<table>\n",
       "    <thead>\n",
       "        <tr>\n",
       "            <th>id</th>\n",
       "            <th>name</th>\n",
       "        </tr>\n",
       "    </thead>\n",
       "    <tbody>\n",
       "        <tr>\n",
       "            <td>4</td>\n",
       "            <td>ИП Иванов И.И.</td>\n",
       "        </tr>\n",
       "        <tr>\n",
       "            <td>5</td>\n",
       "            <td>ИП Петров П.П.</td>\n",
       "        </tr>\n",
       "    </tbody>\n",
       "</table>"
      ],
      "text/plain": [
       "[(4, 'ИП Иванов И.И.'), (5, 'ИП Петров П.П.')]"
      ]
     },
     "execution_count": 3,
     "metadata": {},
     "output_type": "execute_result"
    }
   ],
   "source": [
    "%%sql \n",
    "SELECT * FROM Provider \n",
    "WHERE LENGTH(name) == (SELECT MAX(LENGTH(name)) FROM Provider)"
   ]
  },
  {
   "cell_type": "code",
   "execution_count": 4,
   "id": "2c399900-bc3a-42c6-a555-f2f8453f9141",
   "metadata": {},
   "outputs": [
    {
     "name": "stdout",
     "output_type": "stream",
     "text": [
      " * sqlite:///my_database2.db\n",
      "Done.\n"
     ]
    },
    {
     "data": {
      "text/html": [
       "<table>\n",
       "    <thead>\n",
       "        <tr>\n",
       "            <th>id</th>\n",
       "            <th>name</th>\n",
       "            <th>phone</th>\n",
       "            <th>adress</th>\n",
       "            <th>sex</th>\n",
       "        </tr>\n",
       "    </thead>\n",
       "    <tbody>\n",
       "        <tr>\n",
       "            <td>3</td>\n",
       "            <td>Козлов Александр</td>\n",
       "            <td>79011223344</td>\n",
       "            <td>пр-т Парковый, д. 8, кв. 2</td>\n",
       "            <td>м</td>\n",
       "        </tr>\n",
       "        <tr>\n",
       "            <td>8</td>\n",
       "            <td>Кузнецова Анна</td>\n",
       "            <td>79050005500</td>\n",
       "            <td>пр-т Ленина, д. 12, кв. 6</td>\n",
       "            <td>ж</td>\n",
       "        </tr>\n",
       "    </tbody>\n",
       "</table>"
      ],
      "text/plain": [
       "[(3, 'Козлов Александр', 79011223344, 'пр-т Парковый, д. 8, кв. 2', 'м'),\n",
       " (8, 'Кузнецова Анна', 79050005500, 'пр-т Ленина, д. 12, кв. 6', 'ж')]"
      ]
     },
     "execution_count": 4,
     "metadata": {},
     "output_type": "execute_result"
    }
   ],
   "source": [
    "%%sql\n",
    "SELECT * FROM Client \n",
    "WHERE name LIKE 'К%'"
   ]
  },
  {
   "cell_type": "code",
   "execution_count": 13,
   "id": "e0c7e73a-b650-455a-81f6-16dafa84ee44",
   "metadata": {},
   "outputs": [
    {
     "name": "stdout",
     "output_type": "stream",
     "text": [
      " * sqlite:///my_database2.db\n",
      "Done.\n"
     ]
    },
    {
     "data": {
      "text/html": [
       "<table>\n",
       "    <thead>\n",
       "        <tr>\n",
       "            <th>id</th>\n",
       "            <th>name</th>\n",
       "            <th>phone</th>\n",
       "            <th>adress</th>\n",
       "            <th>sex</th>\n",
       "        </tr>\n",
       "    </thead>\n",
       "    <tbody>\n",
       "        <tr>\n",
       "            <td>3</td>\n",
       "            <td>Козлов Александр</td>\n",
       "            <td>79011223344</td>\n",
       "            <td>пр-т Парковый, д. 8, кв. 2</td>\n",
       "            <td>м</td>\n",
       "        </tr>\n",
       "    </tbody>\n",
       "</table>"
      ],
      "text/plain": [
       "[(3, 'Козлов Александр', 79011223344, 'пр-т Парковый, д. 8, кв. 2', 'м')]"
      ]
     },
     "execution_count": 13,
     "metadata": {},
     "output_type": "execute_result"
    }
   ],
   "source": [
    "%%sql\n",
    "SELECT * FROM Client\n",
    "WHERE name REGEXP '^[В-К]о'"
   ]
  },
  {
   "cell_type": "code",
   "execution_count": 6,
   "id": "40cab08b-ca6f-432d-98da-193d952c584b",
   "metadata": {},
   "outputs": [
    {
     "name": "stdout",
     "output_type": "stream",
     "text": [
      " * sqlite:///my_database2.db\n",
      "Done.\n"
     ]
    },
    {
     "data": {
      "text/html": [
       "<table>\n",
       "    <thead>\n",
       "        <tr>\n",
       "            <th>id</th>\n",
       "            <th>date</th>\n",
       "            <th>ID_Store</th>\n",
       "            <th>ID_Client</th>\n",
       "            <th>ID_Employee</th>\n",
       "            <th>quantity</th>\n",
       "            <th>discount</th>\n",
       "        </tr>\n",
       "    </thead>\n",
       "    <tbody>\n",
       "        <tr>\n",
       "            <td>1</td>\n",
       "            <td>2025-02-05</td>\n",
       "            <td>1</td>\n",
       "            <td>1</td>\n",
       "            <td>1</td>\n",
       "            <td>5</td>\n",
       "            <td>10</td>\n",
       "        </tr>\n",
       "    </tbody>\n",
       "</table>"
      ],
      "text/plain": [
       "[(1, '2025-02-05', 1, 1, 1, 5, 10)]"
      ]
     },
     "execution_count": 6,
     "metadata": {},
     "output_type": "execute_result"
    }
   ],
   "source": [
    "%%sql \n",
    "SELECT * FROM Deal \n",
    "WHERE strftime(\"%m\", date) == (SELECT strftime(\"%m\", \"now\"))"
   ]
  },
  {
   "cell_type": "code",
   "execution_count": 14,
   "id": "a035f2df-0984-4ca2-99a1-8cb84f5f9d99",
   "metadata": {},
   "outputs": [
    {
     "name": "stdout",
     "output_type": "stream",
     "text": [
      " * sqlite:///my_database2.db\n",
      "Done.\n"
     ]
    },
    {
     "data": {
      "text/html": [
       "<table>\n",
       "    <thead>\n",
       "        <tr>\n",
       "            <th>count(*)</th>\n",
       "        </tr>\n",
       "    </thead>\n",
       "    <tbody>\n",
       "        <tr>\n",
       "            <td>1</td>\n",
       "        </tr>\n",
       "    </tbody>\n",
       "</table>"
      ],
      "text/plain": [
       "[(1,)]"
      ]
     },
     "execution_count": 14,
     "metadata": {},
     "output_type": "execute_result"
    }
   ],
   "source": [
    "%%sql \n",
    "SELECT count(*) FROM Deal \n",
    "WHERE strftime(\"%m\", date) == (SELECT strftime(\"%m\", \"now\"))"
   ]
  },
  {
   "cell_type": "code",
   "execution_count": 8,
   "id": "eed9b512-c644-4cb7-80d2-f7f1900a63e7",
   "metadata": {},
   "outputs": [
    {
     "name": "stdout",
     "output_type": "stream",
     "text": [
      " * sqlite:///my_database2.db\n",
      "Done.\n"
     ]
    },
    {
     "data": {
      "text/html": [
       "<table>\n",
       "    <thead>\n",
       "        <tr>\n",
       "            <th>count(*)</th>\n",
       "        </tr>\n",
       "    </thead>\n",
       "    <tbody>\n",
       "        <tr>\n",
       "            <td>5</td>\n",
       "        </tr>\n",
       "    </tbody>\n",
       "</table>"
      ],
      "text/plain": [
       "[(5,)]"
      ]
     },
     "execution_count": 8,
     "metadata": {},
     "output_type": "execute_result"
    }
   ],
   "source": [
    "%%sql\n",
    "SELECT count(*) FROM Deal\n",
    "WHERE CAST(strftime(\"%w\", date) AS INTEGER) IN (1,3)"
   ]
  }
 ],
 "metadata": {
  "kernelspec": {
   "display_name": "Python 3 (ipykernel)",
   "language": "python",
   "name": "python3"
  },
  "language_info": {
   "codemirror_mode": {
    "name": "ipython",
    "version": 3
   },
   "file_extension": ".py",
   "mimetype": "text/x-python",
   "name": "python",
   "nbconvert_exporter": "python",
   "pygments_lexer": "ipython3",
   "version": "3.12.7"
  }
 },
 "nbformat": 4,
 "nbformat_minor": 5
}
