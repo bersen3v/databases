{
 "cells": [
  {
   "cell_type": "code",
   "execution_count": 1,
   "id": "20e8bb3d-ed3d-4a11-8d94-fc53cdd593e5",
   "metadata": {},
   "outputs": [],
   "source": [
    "import sqlite3\n",
    "%config SqlMagic.style = '_DEPRECATED_DEFAULT'\n",
    "connection = sqlite3.connect('my_database2.db')\n",
    "%load_ext sql\n",
    "%sql sqlite:///my_database2.db"
   ]
  },
  {
   "cell_type": "code",
   "execution_count": null,
   "id": "9b993a52-d005-4674-bea1-18234c44d780",
   "metadata": {},
   "outputs": [],
   "source": [
    "# 1) Показать какой поставщик поставил каждый товар на склад (INNER JOIN)."
   ]
  },
  {
   "cell_type": "code",
   "execution_count": 7,
   "id": "525c2f90-5526-45aa-ad33-415068eafab0",
   "metadata": {},
   "outputs": [
    {
     "name": "stdout",
     "output_type": "stream",
     "text": [
      " * sqlite:///my_database2.db\n",
      "Done.\n"
     ]
    },
    {
     "data": {
      "text/html": [
       "<table>\n",
       "    <thead>\n",
       "        <tr>\n",
       "            <th>product</th>\n",
       "            <th>provider</th>\n",
       "        </tr>\n",
       "    </thead>\n",
       "    <tbody>\n",
       "        <tr>\n",
       "            <td>Футбольный мяч</td>\n",
       "            <td>Компания A</td>\n",
       "        </tr>\n",
       "        <tr>\n",
       "            <td>Футбольный мяч</td>\n",
       "            <td>Компания B</td>\n",
       "        </tr>\n",
       "        <tr>\n",
       "            <td>Ноутбук</td>\n",
       "            <td>Компания A</td>\n",
       "        </tr>\n",
       "        <tr>\n",
       "            <td>Ноутбук</td>\n",
       "            <td>Компания C</td>\n",
       "        </tr>\n",
       "        <tr>\n",
       "            <td>Зонтик</td>\n",
       "            <td>Компания B</td>\n",
       "        </tr>\n",
       "        <tr>\n",
       "            <td>Фотоаппарат</td>\n",
       "            <td>Компания C</td>\n",
       "        </tr>\n",
       "        <tr>\n",
       "            <td>Фотоаппарат</td>\n",
       "            <td>Компания A</td>\n",
       "        </tr>\n",
       "        <tr>\n",
       "            <td>Фотоаппарат</td>\n",
       "            <td>Компания A</td>\n",
       "        </tr>\n",
       "        <tr>\n",
       "            <td>Сумка</td>\n",
       "            <td>Компания A</td>\n",
       "        </tr>\n",
       "        <tr>\n",
       "            <td>Наушники</td>\n",
       "            <td>Компания B</td>\n",
       "        </tr>\n",
       "        <tr>\n",
       "            <td>Книга</td>\n",
       "            <td>Компания B</td>\n",
       "        </tr>\n",
       "    </tbody>\n",
       "</table>"
      ],
      "text/plain": [
       "[('Футбольный мяч', 'Компания A'),\n",
       " ('Футбольный мяч', 'Компания B'),\n",
       " ('Ноутбук', 'Компания A'),\n",
       " ('Ноутбук', 'Компания C'),\n",
       " ('Зонтик', 'Компания B'),\n",
       " ('Фотоаппарат', 'Компания C'),\n",
       " ('Фотоаппарат', 'Компания A'),\n",
       " ('Фотоаппарат', 'Компания A'),\n",
       " ('Сумка', 'Компания A'),\n",
       " ('Наушники', 'Компания B'),\n",
       " ('Книга', 'Компания B')]"
      ]
     },
     "execution_count": 7,
     "metadata": {},
     "output_type": "execute_result"
    }
   ],
   "source": [
    "%%sql\n",
    "SELECT Product.name as product, Provider.name as provider FROM Store\n",
    "INNER JOIN Product ON ID_Product = Product.id\n",
    "INNER JOIN Provider ON ID_Provider = Provider.id"
   ]
  },
  {
   "cell_type": "code",
   "execution_count": null,
   "id": "0dd5b515-42c9-4e41-a2f3-6d9a0d2dcad8",
   "metadata": {},
   "outputs": [],
   "source": [
    "# 2) Вывести список товаров, которыми торгует фирма, и их поставщиков вне\n",
    "# зависимости от наличия поставок (LEFT JOIN)."
   ]
  },
  {
   "cell_type": "code",
   "execution_count": 15,
   "id": "a22c9efa-c76d-4ecf-90b5-7d35ce0b501a",
   "metadata": {},
   "outputs": [
    {
     "name": "stdout",
     "output_type": "stream",
     "text": [
      " * sqlite:///my_database2.db\n",
      "Done.\n"
     ]
    },
    {
     "data": {
      "text/html": [
       "<table>\n",
       "    <thead>\n",
       "        <tr>\n",
       "            <th>product</th>\n",
       "            <th>provider</th>\n",
       "            <th>quantity</th>\n",
       "        </tr>\n",
       "    </thead>\n",
       "    <tbody>\n",
       "        <tr>\n",
       "            <td>Футбольный мяч</td>\n",
       "            <td>Компания A</td>\n",
       "            <td>100</td>\n",
       "        </tr>\n",
       "        <tr>\n",
       "            <td>Футбольный мяч</td>\n",
       "            <td>Компания B</td>\n",
       "            <td>150</td>\n",
       "        </tr>\n",
       "        <tr>\n",
       "            <td>Ноутбук</td>\n",
       "            <td>Компания A</td>\n",
       "            <td>50</td>\n",
       "        </tr>\n",
       "        <tr>\n",
       "            <td>Ноутбук</td>\n",
       "            <td>Компания C</td>\n",
       "            <td>70</td>\n",
       "        </tr>\n",
       "        <tr>\n",
       "            <td>Зонтик</td>\n",
       "            <td>Компания B</td>\n",
       "            <td>200</td>\n",
       "        </tr>\n",
       "        <tr>\n",
       "            <td>Фотоаппарат</td>\n",
       "            <td>Компания A</td>\n",
       "            <td>40</td>\n",
       "        </tr>\n",
       "        <tr>\n",
       "            <td>Фотоаппарат</td>\n",
       "            <td>Компания A</td>\n",
       "            <td>200</td>\n",
       "        </tr>\n",
       "        <tr>\n",
       "            <td>Фотоаппарат</td>\n",
       "            <td>Компания C</td>\n",
       "            <td>30</td>\n",
       "        </tr>\n",
       "        <tr>\n",
       "            <td>Сумка</td>\n",
       "            <td>Компания A</td>\n",
       "            <td>0</td>\n",
       "        </tr>\n",
       "        <tr>\n",
       "            <td>Наушники</td>\n",
       "            <td>Компания B</td>\n",
       "            <td>100</td>\n",
       "        </tr>\n",
       "        <tr>\n",
       "            <td>Книга</td>\n",
       "            <td>Компания B</td>\n",
       "            <td>150</td>\n",
       "        </tr>\n",
       "        <tr>\n",
       "            <td>Кофеварка</td>\n",
       "            <td>None</td>\n",
       "            <td>None</td>\n",
       "        </tr>\n",
       "        <tr>\n",
       "            <td>Джинсы</td>\n",
       "            <td>None</td>\n",
       "            <td>None</td>\n",
       "        </tr>\n",
       "        <tr>\n",
       "            <td>Чехол для смартфона</td>\n",
       "            <td>None</td>\n",
       "            <td>None</td>\n",
       "        </tr>\n",
       "    </tbody>\n",
       "</table>"
      ],
      "text/plain": [
       "[('Футбольный мяч', 'Компания A', 100),\n",
       " ('Футбольный мяч', 'Компания B', 150),\n",
       " ('Ноутбук', 'Компания A', 50),\n",
       " ('Ноутбук', 'Компания C', 70),\n",
       " ('Зонтик', 'Компания B', 200),\n",
       " ('Фотоаппарат', 'Компания A', 40),\n",
       " ('Фотоаппарат', 'Компания A', 200),\n",
       " ('Фотоаппарат', 'Компания C', 30),\n",
       " ('Сумка', 'Компания A', 0),\n",
       " ('Наушники', 'Компания B', 100),\n",
       " ('Книга', 'Компания B', 150),\n",
       " ('Кофеварка', None, None),\n",
       " ('Джинсы', None, None),\n",
       " ('Чехол для смартфона', None, None)]"
      ]
     },
     "execution_count": 15,
     "metadata": {},
     "output_type": "execute_result"
    }
   ],
   "source": [
    "%%sql\n",
    "SELECT Product.name as product, Provider.name as provider, quantity FROM Product\n",
    "LEFT JOIN Store ON ID_Product = Product.id\n",
    "LEFT JOIN Provider ON ID_Provider = Provider.id"
   ]
  },
  {
   "cell_type": "code",
   "execution_count": null,
   "id": "3d482c0d-8322-480f-ad3d-b1414112bd33",
   "metadata": {},
   "outputs": [],
   "source": [
    "# 3) Вывести информацию о покупаемых со склада товарах и их покупателях, включая\n",
    "# товары, отсутствующие в списке реализованных товаров (RIGHT JOIN)."
   ]
  },
  {
   "cell_type": "code",
   "execution_count": 61,
   "id": "9a9784da-a976-4ff1-9183-eb2071a1030a",
   "metadata": {},
   "outputs": [],
   "source": [
    "# %%sql\n",
    "# SELECT \n",
    "#     Product.name, \n",
    "#     COALESCE(Client.name, \"Не определен\") as ClientName, \n",
    "#     COALESCE(Deal.quantity, \"Нет продаж\") as quantity FROM Store\n",
    "# LEFT JOIN Deal ON Deal.ID_Store = Store.id\n",
    "# LEFT JOIN Client ON ID_Client = Client.id\n",
    "# LEFT JOIN Product ON ID_Product = Product.id"
   ]
  },
  {
   "cell_type": "code",
   "execution_count": 62,
   "id": "8647253b-0f9d-40d2-8166-6e97afd6a873",
   "metadata": {},
   "outputs": [
    {
     "name": "stdout",
     "output_type": "stream",
     "text": [
      " * sqlite:///my_database2.db\n",
      "Done.\n"
     ]
    },
    {
     "data": {
      "text/html": [
       "<table>\n",
       "    <thead>\n",
       "        <tr>\n",
       "            <th>name</th>\n",
       "            <th>clientName</th>\n",
       "            <th>quantity</th>\n",
       "        </tr>\n",
       "    </thead>\n",
       "    <tbody>\n",
       "        <tr>\n",
       "            <td>Футбольный мяч</td>\n",
       "            <td>Иванов Петр</td>\n",
       "            <td>5</td>\n",
       "        </tr>\n",
       "        <tr>\n",
       "            <td>Футбольный мяч</td>\n",
       "            <td>Смирнова Елена</td>\n",
       "            <td>10</td>\n",
       "        </tr>\n",
       "        <tr>\n",
       "            <td>Футбольный мяч</td>\n",
       "            <td>Козлов Александр</td>\n",
       "            <td>3</td>\n",
       "        </tr>\n",
       "        <tr>\n",
       "            <td>Ноутбук</td>\n",
       "            <td>Попова Марина</td>\n",
       "            <td>8</td>\n",
       "        </tr>\n",
       "        <tr>\n",
       "            <td>Футбольный мяч</td>\n",
       "            <td>Николаев Андрей</td>\n",
       "            <td>6</td>\n",
       "        </tr>\n",
       "        <tr>\n",
       "            <td>Ноутбук</td>\n",
       "            <td>Сергеева Ольга</td>\n",
       "            <td>4</td>\n",
       "        </tr>\n",
       "        <tr>\n",
       "            <td>Футбольный мяч</td>\n",
       "            <td>Петров Дмитрий</td>\n",
       "            <td>7</td>\n",
       "        </tr>\n",
       "        <tr>\n",
       "            <td>Футбольный мяч</td>\n",
       "            <td>Кузнецова Анна</td>\n",
       "            <td>7</td>\n",
       "        </tr>\n",
       "        <tr>\n",
       "            <td>Ноутбук</td>\n",
       "            <td>Морозова Наталья</td>\n",
       "            <td>9</td>\n",
       "        </tr>\n",
       "        <tr>\n",
       "            <td>Футбольный мяч</td>\n",
       "            <td>Морозова Наталья</td>\n",
       "            <td>11</td>\n",
       "        </tr>\n",
       "        <tr>\n",
       "            <td>Футбольный мяч</td>\n",
       "            <td>Иванов Петр</td>\n",
       "            <td>5</td>\n",
       "        </tr>\n",
       "        <tr>\n",
       "            <td>Ноутбук</td>\n",
       "            <td>Не определен</td>\n",
       "            <td>Нет продаж</td>\n",
       "        </tr>\n",
       "        <tr>\n",
       "            <td>Зонтик</td>\n",
       "            <td>Не определен</td>\n",
       "            <td>Нет продаж</td>\n",
       "        </tr>\n",
       "        <tr>\n",
       "            <td>Фотоаппарат</td>\n",
       "            <td>Не определен</td>\n",
       "            <td>Нет продаж</td>\n",
       "        </tr>\n",
       "        <tr>\n",
       "            <td>Фотоаппарат</td>\n",
       "            <td>Не определен</td>\n",
       "            <td>Нет продаж</td>\n",
       "        </tr>\n",
       "        <tr>\n",
       "            <td>Фотоаппарат</td>\n",
       "            <td>Не определен</td>\n",
       "            <td>Нет продаж</td>\n",
       "        </tr>\n",
       "        <tr>\n",
       "            <td>Сумка</td>\n",
       "            <td>Не определен</td>\n",
       "            <td>Нет продаж</td>\n",
       "        </tr>\n",
       "        <tr>\n",
       "            <td>Наушники</td>\n",
       "            <td>Не определен</td>\n",
       "            <td>Нет продаж</td>\n",
       "        </tr>\n",
       "        <tr>\n",
       "            <td>Книга</td>\n",
       "            <td>Не определен</td>\n",
       "            <td>Нет продаж</td>\n",
       "        </tr>\n",
       "    </tbody>\n",
       "</table>"
      ],
      "text/plain": [
       "[('Футбольный мяч', 'Иванов Петр', 5),\n",
       " ('Футбольный мяч', 'Смирнова Елена', 10),\n",
       " ('Футбольный мяч', 'Козлов Александр', 3),\n",
       " ('Ноутбук', 'Попова Марина', 8),\n",
       " ('Футбольный мяч', 'Николаев Андрей', 6),\n",
       " ('Ноутбук', 'Сергеева Ольга', 4),\n",
       " ('Футбольный мяч', 'Петров Дмитрий', 7),\n",
       " ('Футбольный мяч', 'Кузнецова Анна', 7),\n",
       " ('Ноутбук', 'Морозова Наталья', 9),\n",
       " ('Футбольный мяч', 'Морозова Наталья', 11),\n",
       " ('Футбольный мяч', 'Иванов Петр', 5),\n",
       " ('Ноутбук', 'Не определен', 'Нет продаж'),\n",
       " ('Зонтик', 'Не определен', 'Нет продаж'),\n",
       " ('Фотоаппарат', 'Не определен', 'Нет продаж'),\n",
       " ('Фотоаппарат', 'Не определен', 'Нет продаж'),\n",
       " ('Фотоаппарат', 'Не определен', 'Нет продаж'),\n",
       " ('Сумка', 'Не определен', 'Нет продаж'),\n",
       " ('Наушники', 'Не определен', 'Нет продаж'),\n",
       " ('Книга', 'Не определен', 'Нет продаж')]"
      ]
     },
     "execution_count": 62,
     "metadata": {},
     "output_type": "execute_result"
    }
   ],
   "source": [
    "%%sql\n",
    "SELECT \n",
    "    Product.name, \n",
    "    COALESCE(Client.name, \"Не определен\") as clientName,\n",
    "    COALESCE(Deal.quantity, \"Нет продаж\") as quantity\n",
    "FROM Deal\n",
    "RIGHT JOIN Store ON ID_Store = Store.id\n",
    "INNER JOIN Product ON ID_Product = Product.id\n",
    "LEFT JOIN Client ON ID_Client = Client.id"
   ]
  },
  {
   "cell_type": "code",
   "execution_count": null,
   "id": "645aaa44-90ae-4f94-9d9f-36a3a829085f",
   "metadata": {},
   "outputs": [],
   "source": [
    "# 4) Вывести список поставщиков, которые хотя бы раз осуществляли поставку на склад\n",
    "# (полусоединение)."
   ]
  },
  {
   "cell_type": "code",
   "execution_count": 66,
   "id": "13cde229-c57c-4180-b6e7-83453800e789",
   "metadata": {},
   "outputs": [
    {
     "name": "stdout",
     "output_type": "stream",
     "text": [
      " * sqlite:///my_database2.db\n",
      "Done.\n"
     ]
    },
    {
     "data": {
      "text/html": [
       "<table>\n",
       "    <thead>\n",
       "        <tr>\n",
       "            <th>name</th>\n",
       "        </tr>\n",
       "    </thead>\n",
       "    <tbody>\n",
       "        <tr>\n",
       "            <td>Компания A</td>\n",
       "        </tr>\n",
       "        <tr>\n",
       "            <td>Компания B</td>\n",
       "        </tr>\n",
       "        <tr>\n",
       "            <td>Компания C</td>\n",
       "        </tr>\n",
       "    </tbody>\n",
       "</table>"
      ],
      "text/plain": [
       "[('Компания A',), ('Компания B',), ('Компания C',)]"
      ]
     },
     "execution_count": 66,
     "metadata": {},
     "output_type": "execute_result"
    }
   ],
   "source": [
    "%%sql\n",
    "SELECT DISTINCT Provider.name FROM Store\n",
    "INNER JOIN Provider ON ID_Provider = Provider.id"
   ]
  },
  {
   "cell_type": "code",
   "execution_count": 70,
   "id": "e59c3f7a-8e91-48bf-917a-98fa66dade01",
   "metadata": {},
   "outputs": [
    {
     "name": "stdout",
     "output_type": "stream",
     "text": [
      " * sqlite:///my_database2.db\n",
      "Done.\n"
     ]
    },
    {
     "data": {
      "text/html": [
       "<table>\n",
       "    <thead>\n",
       "        <tr>\n",
       "            <th>name</th>\n",
       "        </tr>\n",
       "    </thead>\n",
       "    <tbody>\n",
       "        <tr>\n",
       "            <td>Компания A</td>\n",
       "        </tr>\n",
       "        <tr>\n",
       "            <td>Компания B</td>\n",
       "        </tr>\n",
       "        <tr>\n",
       "            <td>Компания C</td>\n",
       "        </tr>\n",
       "    </tbody>\n",
       "</table>"
      ],
      "text/plain": [
       "[('Компания A',), ('Компания B',), ('Компания C',)]"
      ]
     },
     "execution_count": 70,
     "metadata": {},
     "output_type": "execute_result"
    }
   ],
   "source": [
    "%%sql\n",
    "SELECT DISTINCT Provider.name FROM Store\n",
    "LEFT JOIN Provider ON ID_Provider = Provider.id"
   ]
  },
  {
   "cell_type": "code",
   "execution_count": 76,
   "id": "63d12cf3-1b29-4332-b0ff-c7fde6d482fb",
   "metadata": {},
   "outputs": [
    {
     "name": "stdout",
     "output_type": "stream",
     "text": [
      " * sqlite:///my_database2.db\n",
      "Done.\n"
     ]
    },
    {
     "data": {
      "text/html": [
       "<table>\n",
       "    <thead>\n",
       "        <tr>\n",
       "            <th>name</th>\n",
       "        </tr>\n",
       "    </thead>\n",
       "    <tbody>\n",
       "        <tr>\n",
       "            <td>Компания A</td>\n",
       "        </tr>\n",
       "        <tr>\n",
       "            <td>Компания B</td>\n",
       "        </tr>\n",
       "        <tr>\n",
       "            <td>Компания C</td>\n",
       "        </tr>\n",
       "    </tbody>\n",
       "</table>"
      ],
      "text/plain": [
       "[('Компания A',), ('Компания B',), ('Компания C',)]"
      ]
     },
     "execution_count": 76,
     "metadata": {},
     "output_type": "execute_result"
    }
   ],
   "source": [
    "%%sql\n",
    "SELECT DISTINCT Provider.name FROM Provider\n",
    "RIGHT JOIN Store ON ID_Provider = Provider.id"
   ]
  },
  {
   "cell_type": "code",
   "execution_count": 88,
   "id": "fc51aed1-82e8-49f8-892c-929caf31cd38",
   "metadata": {},
   "outputs": [
    {
     "name": "stdout",
     "output_type": "stream",
     "text": [
      " * sqlite:///my_database2.db\n",
      "Done.\n"
     ]
    },
    {
     "data": {
      "text/html": [
       "<table>\n",
       "    <thead>\n",
       "        <tr>\n",
       "            <th>id</th>\n",
       "            <th>name</th>\n",
       "        </tr>\n",
       "    </thead>\n",
       "    <tbody>\n",
       "        <tr>\n",
       "            <td>1</td>\n",
       "            <td>Компания A</td>\n",
       "        </tr>\n",
       "        <tr>\n",
       "            <td>2</td>\n",
       "            <td>Компания B</td>\n",
       "        </tr>\n",
       "        <tr>\n",
       "            <td>3</td>\n",
       "            <td>Компания C</td>\n",
       "        </tr>\n",
       "    </tbody>\n",
       "</table>"
      ],
      "text/plain": [
       "[(1, 'Компания A'), (2, 'Компания B'), (3, 'Компания C')]"
      ]
     },
     "execution_count": 88,
     "metadata": {},
     "output_type": "execute_result"
    }
   ],
   "source": [
    "%%sql\n",
    "SELECT *\n",
    "FROM Provider\n",
    "WHERE EXISTS (\n",
    "    SELECT 1\n",
    "    FROM Store\n",
    "    WHERE Provider.id = Store.ID_Provider\n",
    ");"
   ]
  },
  {
   "cell_type": "code",
   "execution_count": null,
   "id": "c519d018-936f-4809-ac8e-3d927e3c1d49",
   "metadata": {},
   "outputs": [],
   "source": [
    "# 5)Выведите список сотрудников с указанием их прямых начальников\n",
    "# (самосоединение). Для главного начальника в столбец «Начальник» вывести\n",
    "# «не определен»."
   ]
  },
  {
   "cell_type": "code",
   "execution_count": 103,
   "id": "941c60e6-a62e-401f-8810-b1dbe4d76fdd",
   "metadata": {},
   "outputs": [
    {
     "name": "stdout",
     "output_type": "stream",
     "text": [
      " * sqlite:///my_database2.db\n",
      "Done.\n"
     ]
    },
    {
     "data": {
      "text/html": [
       "<table>\n",
       "    <thead>\n",
       "        <tr>\n",
       "            <th>name</th>\n",
       "            <th>manager</th>\n",
       "        </tr>\n",
       "    </thead>\n",
       "    <tbody>\n",
       "        <tr>\n",
       "            <td>Иванов Павел</td>\n",
       "            <td>Не определен</td>\n",
       "        </tr>\n",
       "        <tr>\n",
       "            <td>Петров Алексей</td>\n",
       "            <td>Иванов Павел</td>\n",
       "        </tr>\n",
       "        <tr>\n",
       "            <td>Сидорова Елена</td>\n",
       "            <td>Иванов Павел</td>\n",
       "        </tr>\n",
       "        <tr>\n",
       "            <td>Козлова Анастасия</td>\n",
       "            <td>Петров Алексей</td>\n",
       "        </tr>\n",
       "        <tr>\n",
       "            <td>Смирнов Дмитрий</td>\n",
       "            <td>Петров Алексей</td>\n",
       "        </tr>\n",
       "        <tr>\n",
       "            <td>Попова Ольга</td>\n",
       "            <td>Петров Алексей</td>\n",
       "        </tr>\n",
       "        <tr>\n",
       "            <td>Николаев Игорь</td>\n",
       "            <td>Сидорова Елена</td>\n",
       "        </tr>\n",
       "        <tr>\n",
       "            <td>Сергеева Марина</td>\n",
       "            <td>Сидорова Елена</td>\n",
       "        </tr>\n",
       "        <tr>\n",
       "            <td>Петров Денис</td>\n",
       "            <td>Сидорова Елена</td>\n",
       "        </tr>\n",
       "    </tbody>\n",
       "</table>"
      ],
      "text/plain": [
       "[('Иванов Павел', 'Не определен'),\n",
       " ('Петров Алексей', 'Иванов Павел'),\n",
       " ('Сидорова Елена', 'Иванов Павел'),\n",
       " ('Козлова Анастасия', 'Петров Алексей'),\n",
       " ('Смирнов Дмитрий', 'Петров Алексей'),\n",
       " ('Попова Ольга', 'Петров Алексей'),\n",
       " ('Николаев Игорь', 'Сидорова Елена'),\n",
       " ('Сергеева Марина', 'Сидорова Елена'),\n",
       " ('Петров Денис', 'Сидорова Елена')]"
      ]
     },
     "execution_count": 103,
     "metadata": {},
     "output_type": "execute_result"
    }
   ],
   "source": [
    "%%sql\n",
    "SELECT \n",
    "    e1.name, \n",
    "    COALESCE(e2.name, \"Не определен\") as manager\n",
    "    FROM Employee e1\n",
    "LEFT JOIN Employee e2 ON e2.id = e1.ID_Manager"
   ]
  },
  {
   "cell_type": "code",
   "execution_count": null,
   "id": "8c89f873-5af1-4813-a4e4-14f099ed8036",
   "metadata": {},
   "outputs": [],
   "source": []
  }
 ],
 "metadata": {
  "kernelspec": {
   "display_name": "Python 3 (ipykernel)",
   "language": "python",
   "name": "python3"
  },
  "language_info": {
   "codemirror_mode": {
    "name": "ipython",
    "version": 3
   },
   "file_extension": ".py",
   "mimetype": "text/x-python",
   "name": "python",
   "nbconvert_exporter": "python",
   "pygments_lexer": "ipython3",
   "version": "3.13.2"
  }
 },
 "nbformat": 4,
 "nbformat_minor": 5
}
