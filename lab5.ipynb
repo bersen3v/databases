{
 "cells": [
  {
   "cell_type": "code",
   "execution_count": 14,
   "id": "00952b5e-b78b-460d-a200-e9b96b385345",
   "metadata": {},
   "outputs": [
    {
     "name": "stdout",
     "output_type": "stream",
     "text": [
      "The sql extension is already loaded. To reload it, use:\n",
      "  %reload_ext sql\n"
     ]
    }
   ],
   "source": [
    "import sqlite3\n",
    "%config SqlMagic.style = '_DEPRECATED_DEFAULT'\n",
    "connection = sqlite3.connect('my_database2.db')\n",
    "%load_ext sql\n",
    "%sql sqlite:///my_database2.db"
   ]
  },
  {
   "cell_type": "code",
   "execution_count": 2,
   "id": "e6466635-4dd7-4726-8541-8185461e565b",
   "metadata": {},
   "outputs": [
    {
     "name": "stdout",
     "output_type": "stream",
     "text": [
      " * sqlite:///my_database2.db\n",
      "Done.\n"
     ]
    },
    {
     "data": {
      "text/html": [
       "<table>\n",
       "    <thead>\n",
       "        <tr>\n",
       "            <th>id</th>\n",
       "            <th>name</th>\n",
       "        </tr>\n",
       "    </thead>\n",
       "    <tbody>\n",
       "        <tr>\n",
       "            <td>3</td>\n",
       "            <td>Компания C</td>\n",
       "        </tr>\n",
       "        <tr>\n",
       "            <td>2</td>\n",
       "            <td>Компания B</td>\n",
       "        </tr>\n",
       "        <tr>\n",
       "            <td>1</td>\n",
       "            <td>Компания A</td>\n",
       "        </tr>\n",
       "        <tr>\n",
       "            <td>5</td>\n",
       "            <td>ИП Петров П.П.</td>\n",
       "        </tr>\n",
       "        <tr>\n",
       "            <td>4</td>\n",
       "            <td>ИП Иванов И.И.</td>\n",
       "        </tr>\n",
       "    </tbody>\n",
       "</table>"
      ],
      "text/plain": [
       "[(3, 'Компания C'),\n",
       " (2, 'Компания B'),\n",
       " (1, 'Компания A'),\n",
       " (5, 'ИП Петров П.П.'),\n",
       " (4, 'ИП Иванов И.И.')]"
      ]
     },
     "execution_count": 2,
     "metadata": {},
     "output_type": "execute_result"
    }
   ],
   "source": [
    "#asc по возрастанию\n",
    "#desc по убыванию\n",
    "%sql SELECT * FROM Provider ORDER BY name DESC"
   ]
  },
  {
   "cell_type": "code",
   "execution_count": 3,
   "id": "d4ac3153-d717-4ebe-b1c1-4022c861e887",
   "metadata": {},
   "outputs": [
    {
     "name": "stdout",
     "output_type": "stream",
     "text": [
      " * sqlite:///my_database2.db\n",
      "Done.\n"
     ]
    },
    {
     "data": {
      "text/html": [
       "<table>\n",
       "    <thead>\n",
       "        <tr>\n",
       "            <th>id</th>\n",
       "            <th>name</th>\n",
       "        </tr>\n",
       "    </thead>\n",
       "    <tbody>\n",
       "        <tr>\n",
       "            <td>4</td>\n",
       "            <td>ИП Иванов И.И.</td>\n",
       "        </tr>\n",
       "        <tr>\n",
       "            <td>5</td>\n",
       "            <td>ИП Петров П.П.</td>\n",
       "        </tr>\n",
       "    </tbody>\n",
       "</table>"
      ],
      "text/plain": [
       "[(4, 'ИП Иванов И.И.'), (5, 'ИП Петров П.П.')]"
      ]
     },
     "execution_count": 3,
     "metadata": {},
     "output_type": "execute_result"
    }
   ],
   "source": [
    "%%sql \n",
    "SELECT * FROM Provider \n",
    "WHERE LENGTH(name) == (SELECT MAX(LENGTH(name)) FROM Provider)"
   ]
  },
  {
   "cell_type": "code",
   "execution_count": 4,
   "id": "2c399900-bc3a-42c6-a555-f2f8453f9141",
   "metadata": {},
   "outputs": [
    {
     "name": "stdout",
     "output_type": "stream",
     "text": [
      " * sqlite:///my_database2.db\n",
      "Done.\n"
     ]
    },
    {
     "data": {
      "text/html": [
       "<table>\n",
       "    <thead>\n",
       "        <tr>\n",
       "            <th>id</th>\n",
       "            <th>name</th>\n",
       "            <th>phone</th>\n",
       "            <th>adress</th>\n",
       "            <th>sex</th>\n",
       "        </tr>\n",
       "    </thead>\n",
       "    <tbody>\n",
       "        <tr>\n",
       "            <td>3</td>\n",
       "            <td>Козлов Александр</td>\n",
       "            <td>79011223344</td>\n",
       "            <td>пр-т Парковый, д. 8, кв. 2</td>\n",
       "            <td>м</td>\n",
       "        </tr>\n",
       "        <tr>\n",
       "            <td>8</td>\n",
       "            <td>Кузнецова Анна</td>\n",
       "            <td>79050005500</td>\n",
       "            <td>пр-т Ленина, д. 12, кв. 6</td>\n",
       "            <td>ж</td>\n",
       "        </tr>\n",
       "    </tbody>\n",
       "</table>"
      ],
      "text/plain": [
       "[(3, 'Козлов Александр', 79011223344, 'пр-т Парковый, д. 8, кв. 2', 'м'),\n",
       " (8, 'Кузнецова Анна', 79050005500, 'пр-т Ленина, д. 12, кв. 6', 'ж')]"
      ]
     },
     "execution_count": 4,
     "metadata": {},
     "output_type": "execute_result"
    }
   ],
   "source": [
    "%%sql\n",
    "SELECT * FROM Client \n",
    "WHERE name LIKE 'К%'"
   ]
  },
  {
   "cell_type": "code",
   "execution_count": 19,
   "id": "8b31b010-4861-49d5-84dd-0fc407a3f09b",
   "metadata": {},
   "outputs": [
    {
     "name": "stdout",
     "output_type": "stream",
     "text": [
      " * sqlite:///my_database2.db\n",
      "1 rows affected.\n"
     ]
    },
    {
     "data": {
      "text/plain": [
       "[]"
      ]
     },
     "execution_count": 19,
     "metadata": {},
     "output_type": "execute_result"
    }
   ],
   "source": [
    "%%sql\n",
    "INSERT INTO Client (name, phone, adress, sex) VALUES\n",
    "('|ованов Петр', 79123456789, 'ул. Центральная, д. 5, кв. 3', 'м');"
   ]
  },
  {
   "cell_type": "code",
   "execution_count": 25,
   "id": "e0c7e73a-b650-455a-81f6-16dafa84ee44",
   "metadata": {},
   "outputs": [
    {
     "name": "stdout",
     "output_type": "stream",
     "text": [
      " * sqlite:///my_database2.db\n",
      "Done.\n"
     ]
    },
    {
     "data": {
      "text/html": [
       "<table>\n",
       "    <thead>\n",
       "        <tr>\n",
       "            <th>id</th>\n",
       "            <th>name</th>\n",
       "            <th>phone</th>\n",
       "            <th>adress</th>\n",
       "            <th>sex</th>\n",
       "        </tr>\n",
       "    </thead>\n",
       "    <tbody>\n",
       "        <tr>\n",
       "            <td>3</td>\n",
       "            <td>Козлов Александр</td>\n",
       "            <td>79011223344</td>\n",
       "            <td>пр-т Парковый, д. 8, кв. 2</td>\n",
       "            <td>м</td>\n",
       "        </tr>\n",
       "        <tr>\n",
       "            <td>11</td>\n",
       "            <td>Вованов Петр</td>\n",
       "            <td>79123456789</td>\n",
       "            <td>ул. Центральная, д. 5, кв. 3</td>\n",
       "            <td>м</td>\n",
       "        </tr>\n",
       "    </tbody>\n",
       "</table>"
      ],
      "text/plain": [
       "[(3, 'Козлов Александр', 79011223344, 'пр-т Парковый, д. 8, кв. 2', 'м'),\n",
       " (11, 'Вованов Петр', 79123456789, 'ул. Центральная, д. 5, кв. 3', 'м')]"
      ]
     },
     "execution_count": 25,
     "metadata": {},
     "output_type": "execute_result"
    }
   ],
   "source": [
    "%%sql\n",
    "SELECT * FROM Client\n",
    "WHERE name REGEXP '^[ВКЕ]о'"
   ]
  },
  {
   "cell_type": "code",
   "execution_count": 29,
   "id": "f92c4038-60df-4f71-9f74-2db6a6bc3d66",
   "metadata": {},
   "outputs": [
    {
     "name": "stdout",
     "output_type": "stream",
     "text": [
      " * sqlite:///my_database2.db\n",
      "Done.\n"
     ]
    },
    {
     "data": {
      "text/html": [
       "<table>\n",
       "    <thead>\n",
       "        <tr>\n",
       "            <th>id</th>\n",
       "            <th>date</th>\n",
       "            <th>ID_Store</th>\n",
       "            <th>ID_Client</th>\n",
       "            <th>ID_Employee</th>\n",
       "            <th>quantity</th>\n",
       "            <th>discount</th>\n",
       "        </tr>\n",
       "    </thead>\n",
       "    <tbody>\n",
       "        <tr>\n",
       "            <td>1</td>\n",
       "            <td>2025-02-05</td>\n",
       "            <td>1</td>\n",
       "            <td>1</td>\n",
       "            <td>1</td>\n",
       "            <td>5</td>\n",
       "            <td>10</td>\n",
       "        </tr>\n",
       "        <tr>\n",
       "            <td>2</td>\n",
       "            <td>2025-01-06</td>\n",
       "            <td>2</td>\n",
       "            <td>2</td>\n",
       "            <td>1</td>\n",
       "            <td>10</td>\n",
       "            <td>15</td>\n",
       "        </tr>\n",
       "        <tr>\n",
       "            <td>3</td>\n",
       "            <td>2025-01-07</td>\n",
       "            <td>1</td>\n",
       "            <td>3</td>\n",
       "            <td>2</td>\n",
       "            <td>3</td>\n",
       "            <td>5</td>\n",
       "        </tr>\n",
       "        <tr>\n",
       "            <td>4</td>\n",
       "            <td>2025-01-08</td>\n",
       "            <td>3</td>\n",
       "            <td>4</td>\n",
       "            <td>3</td>\n",
       "            <td>8</td>\n",
       "            <td>12</td>\n",
       "        </tr>\n",
       "        <tr>\n",
       "            <td>5</td>\n",
       "            <td>2025-01-09</td>\n",
       "            <td>2</td>\n",
       "            <td>5</td>\n",
       "            <td>3</td>\n",
       "            <td>6</td>\n",
       "            <td>8</td>\n",
       "        </tr>\n",
       "        <tr>\n",
       "            <td>6</td>\n",
       "            <td>2025-01-15</td>\n",
       "            <td>3</td>\n",
       "            <td>6</td>\n",
       "            <td>1</td>\n",
       "            <td>4</td>\n",
       "            <td>10</td>\n",
       "        </tr>\n",
       "        <tr>\n",
       "            <td>7</td>\n",
       "            <td>2025-01-20</td>\n",
       "            <td>1</td>\n",
       "            <td>7</td>\n",
       "            <td>3</td>\n",
       "            <td>7</td>\n",
       "            <td>15</td>\n",
       "        </tr>\n",
       "        <tr>\n",
       "            <td>8</td>\n",
       "            <td>2025-01-25</td>\n",
       "            <td>2</td>\n",
       "            <td>8</td>\n",
       "            <td>1</td>\n",
       "            <td>7</td>\n",
       "            <td>10</td>\n",
       "        </tr>\n",
       "        <tr>\n",
       "            <td>9</td>\n",
       "            <td>2025-01-26</td>\n",
       "            <td>3</td>\n",
       "            <td>10</td>\n",
       "            <td>2</td>\n",
       "            <td>9</td>\n",
       "            <td>20</td>\n",
       "        </tr>\n",
       "        <tr>\n",
       "            <td>10</td>\n",
       "            <td>2025-01-28</td>\n",
       "            <td>1</td>\n",
       "            <td>10</td>\n",
       "            <td>2</td>\n",
       "            <td>11</td>\n",
       "            <td>25</td>\n",
       "        </tr>\n",
       "    </tbody>\n",
       "</table>"
      ],
      "text/plain": [
       "[(1, '2025-02-05', 1, 1, 1, 5, 10),\n",
       " (2, '2025-01-06', 2, 2, 1, 10, 15),\n",
       " (3, '2025-01-07', 1, 3, 2, 3, 5),\n",
       " (4, '2025-01-08', 3, 4, 3, 8, 12),\n",
       " (5, '2025-01-09', 2, 5, 3, 6, 8),\n",
       " (6, '2025-01-15', 3, 6, 1, 4, 10),\n",
       " (7, '2025-01-20', 1, 7, 3, 7, 15),\n",
       " (8, '2025-01-25', 2, 8, 1, 7, 10),\n",
       " (9, '2025-01-26', 3, 10, 2, 9, 20),\n",
       " (10, '2025-01-28', 1, 10, 2, 11, 25)]"
      ]
     },
     "execution_count": 29,
     "metadata": {},
     "output_type": "execute_result"
    }
   ],
   "source": [
    "%%sql \n",
    "SELECT * FROM Deal "
   ]
  },
  {
   "cell_type": "code",
   "execution_count": 31,
   "id": "991d4725-dcf6-4808-bb70-be431e839592",
   "metadata": {},
   "outputs": [
    {
     "name": "stdout",
     "output_type": "stream",
     "text": [
      " * sqlite:///my_database2.db\n",
      "1 rows affected.\n"
     ]
    },
    {
     "data": {
      "text/plain": [
       "[]"
      ]
     },
     "execution_count": 31,
     "metadata": {},
     "output_type": "execute_result"
    }
   ],
   "source": [
    "%%sql\n",
    "INSERT INTO Deal (date, ID_Store, ID_Client, ID_Employee, quantity, discount) VALUES\n",
    "('2025-03-05', 1, 1, 1, 5, 10);"
   ]
  },
  {
   "cell_type": "code",
   "execution_count": 32,
   "id": "40cab08b-ca6f-432d-98da-193d952c584b",
   "metadata": {},
   "outputs": [
    {
     "name": "stdout",
     "output_type": "stream",
     "text": [
      " * sqlite:///my_database2.db\n",
      "Done.\n"
     ]
    },
    {
     "data": {
      "text/html": [
       "<table>\n",
       "    <thead>\n",
       "        <tr>\n",
       "            <th>id</th>\n",
       "            <th>date</th>\n",
       "            <th>ID_Store</th>\n",
       "            <th>ID_Client</th>\n",
       "            <th>ID_Employee</th>\n",
       "            <th>quantity</th>\n",
       "            <th>discount</th>\n",
       "        </tr>\n",
       "    </thead>\n",
       "    <tbody>\n",
       "        <tr>\n",
       "            <td>11</td>\n",
       "            <td>2025-03-05</td>\n",
       "            <td>1</td>\n",
       "            <td>1</td>\n",
       "            <td>1</td>\n",
       "            <td>5</td>\n",
       "            <td>10</td>\n",
       "        </tr>\n",
       "    </tbody>\n",
       "</table>"
      ],
      "text/plain": [
       "[(11, '2025-03-05', 1, 1, 1, 5, 10)]"
      ]
     },
     "execution_count": 32,
     "metadata": {},
     "output_type": "execute_result"
    }
   ],
   "source": [
    "%%sql \n",
    "SELECT * FROM Deal \n",
    "WHERE strftime(\"%m\", date) == (SELECT strftime(\"%m\", \"now\")) AND strftime(\"%Y\", date) == (SELECT strftime(\"%Y\", \"now\"))"
   ]
  },
  {
   "cell_type": "code",
   "execution_count": 33,
   "id": "a035f2df-0984-4ca2-99a1-8cb84f5f9d99",
   "metadata": {},
   "outputs": [
    {
     "name": "stdout",
     "output_type": "stream",
     "text": [
      " * sqlite:///my_database2.db\n",
      "Done.\n"
     ]
    },
    {
     "data": {
      "text/html": [
       "<table>\n",
       "    <thead>\n",
       "        <tr>\n",
       "            <th>count(*)</th>\n",
       "        </tr>\n",
       "    </thead>\n",
       "    <tbody>\n",
       "        <tr>\n",
       "            <td>1</td>\n",
       "        </tr>\n",
       "    </tbody>\n",
       "</table>"
      ],
      "text/plain": [
       "[(1,)]"
      ]
     },
     "execution_count": 33,
     "metadata": {},
     "output_type": "execute_result"
    }
   ],
   "source": [
    "%%sql \n",
    "SELECT count(*) FROM Deal \n",
    "WHERE strftime(\"%m\", date) == (SELECT strftime(\"%m\", \"now\"))  AND strftime(\"%Y\", date) == (SELECT strftime(\"%Y\", \"now\"))"
   ]
  },
  {
   "cell_type": "code",
   "execution_count": 8,
   "id": "eed9b512-c644-4cb7-80d2-f7f1900a63e7",
   "metadata": {},
   "outputs": [
    {
     "name": "stdout",
     "output_type": "stream",
     "text": [
      " * sqlite:///my_database2.db\n",
      "Done.\n"
     ]
    },
    {
     "data": {
      "text/html": [
       "<table>\n",
       "    <thead>\n",
       "        <tr>\n",
       "            <th>count(*)</th>\n",
       "        </tr>\n",
       "    </thead>\n",
       "    <tbody>\n",
       "        <tr>\n",
       "            <td>5</td>\n",
       "        </tr>\n",
       "    </tbody>\n",
       "</table>"
      ],
      "text/plain": [
       "[(5,)]"
      ]
     },
     "execution_count": 8,
     "metadata": {},
     "output_type": "execute_result"
    }
   ],
   "source": [
    "%%sql\n",
    "SELECT count(*) FROM Deal\n",
    "WHERE CAST(strftime(\"%w\", date) AS INTEGER) IN (1,3)"
   ]
  }
 ],
 "metadata": {
  "kernelspec": {
   "display_name": "Python 3 (ipykernel)",
   "language": "python",
   "name": "python3"
  },
  "language_info": {
   "codemirror_mode": {
    "name": "ipython",
    "version": 3
   },
   "file_extension": ".py",
   "mimetype": "text/x-python",
   "name": "python",
   "nbconvert_exporter": "python",
   "pygments_lexer": "ipython3",
   "version": "3.12.7"
  }
 },
 "nbformat": 4,
 "nbformat_minor": 5
}
