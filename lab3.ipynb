{
 "cells": [
  {
   "cell_type": "code",
   "execution_count": 1,
   "id": "3fcaa63e-06d7-4752-a599-814c8c9d55ba",
   "metadata": {},
   "outputs": [],
   "source": [
    "import sqlite3"
   ]
  },
  {
   "cell_type": "code",
   "execution_count": 2,
   "id": "ba7fd7e1-e501-43dc-b0cb-38df154d80d2",
   "metadata": {},
   "outputs": [],
   "source": [
    "%config SqlMagic.style = '_DEPRECATED_DEFAULT'"
   ]
  },
  {
   "cell_type": "code",
   "execution_count": 3,
   "id": "0deb25e9-68f3-48a9-8c3b-99fcfd459baa",
   "metadata": {},
   "outputs": [],
   "source": [
    "connection = sqlite3.connect('my_database2.db')"
   ]
  },
  {
   "cell_type": "code",
   "execution_count": 4,
   "id": "edf91d8c-e39b-43ca-8976-178e520437ba",
   "metadata": {},
   "outputs": [],
   "source": [
    "%load_ext sql\n",
    "%sql sqlite:///my_database2.db"
   ]
  },
  {
   "cell_type": "code",
   "execution_count": 5,
   "id": "4b038b20-19f7-41a8-987e-4ed5f48a4865",
   "metadata": {},
   "outputs": [
    {
     "name": "stdout",
     "output_type": "stream",
     "text": [
      " * sqlite:///my_database2.db\n",
      "Done.\n",
      " * sqlite:///my_database2.db\n",
      "Done.\n",
      " * sqlite:///my_database2.db\n",
      "Done.\n",
      " * sqlite:///my_database2.db\n",
      "Done.\n",
      " * sqlite:///my_database2.db\n",
      "Done.\n",
      " * sqlite:///my_database2.db\n",
      "Done.\n"
     ]
    },
    {
     "data": {
      "text/plain": [
       "[]"
      ]
     },
     "execution_count": 5,
     "metadata": {},
     "output_type": "execute_result"
    }
   ],
   "source": [
    "%sql DROP TABLE IF EXISTS Employee;\n",
    "%sql DROP TABLE IF EXISTS Provider;\n",
    "%sql DROP TABLE IF EXISTS Store;\n",
    "%sql DROP TABLE IF EXISTS Deal;\n",
    "%sql DROP TABLE IF EXISTS Client;\n",
    "%sql DROP TABLE IF EXISTS Product;"
   ]
  },
  {
   "cell_type": "code",
   "execution_count": 6,
   "id": "71ec41f5-689a-4f64-ba40-d52fa0146ff4",
   "metadata": {},
   "outputs": [
    {
     "name": "stdout",
     "output_type": "stream",
     "text": [
      " * sqlite:///my_database2.db\n",
      "Done.\n"
     ]
    },
    {
     "data": {
      "text/plain": [
       "[]"
      ]
     },
     "execution_count": 6,
     "metadata": {},
     "output_type": "execute_result"
    }
   ],
   "source": [
    "%%sql\n",
    "CREATE TABLE IF NOT EXISTS Product (\n",
    "    id INTEGER PRIMARY KEY,\n",
    "    name TEXT NOT NULL,\n",
    "    unit TEXT NOT NULL,\n",
    "    description TEXT NOT NULL,\n",
    "    category TEXT NOT NULL\n",
    ")"
   ]
  },
  {
   "cell_type": "code",
   "execution_count": 7,
   "id": "892768f1-e411-4942-baf9-3be114cb3083",
   "metadata": {},
   "outputs": [
    {
     "name": "stdout",
     "output_type": "stream",
     "text": [
      " * sqlite:///my_database2.db\n",
      "Done.\n"
     ]
    },
    {
     "data": {
      "text/plain": [
       "[]"
      ]
     },
     "execution_count": 7,
     "metadata": {},
     "output_type": "execute_result"
    }
   ],
   "source": [
    "%%sql\n",
    "CREATE TABLE IF NOT EXISTS Provider (\n",
    "    id INTEGER PRIMARY KEY,\n",
    "    name TEXT NOT NULL\n",
    ")"
   ]
  },
  {
   "cell_type": "code",
   "execution_count": 8,
   "id": "6300e13d-39f0-4a84-b943-6fbe97612fa8",
   "metadata": {},
   "outputs": [
    {
     "name": "stdout",
     "output_type": "stream",
     "text": [
      " * sqlite:///my_database2.db\n",
      "Done.\n"
     ]
    },
    {
     "data": {
      "text/plain": [
       "[]"
      ]
     },
     "execution_count": 8,
     "metadata": {},
     "output_type": "execute_result"
    }
   ],
   "source": [
    "%%sql \n",
    "CREATE TABLE IF NOT EXISTS Employee (\n",
    "    id INTEGER PRIMARY KEY,\n",
    "    name TEXT NOT NULL,\n",
    "    ID_Manager INTEGER,\n",
    "    FOREIGN KEY (ID_Manager) REFERENCES Employee(id)\n",
    ")"
   ]
  },
  {
   "cell_type": "code",
   "execution_count": 9,
   "id": "46d507b8-0644-4796-8005-49bdb819e722",
   "metadata": {},
   "outputs": [
    {
     "name": "stdout",
     "output_type": "stream",
     "text": [
      " * sqlite:///my_database2.db\n",
      "Done.\n"
     ]
    },
    {
     "data": {
      "text/plain": [
       "[]"
      ]
     },
     "execution_count": 9,
     "metadata": {},
     "output_type": "execute_result"
    }
   ],
   "source": [
    "%%sql\n",
    "CREATE TABLE IF NOT EXISTS Store (\n",
    "    id INTEGER PRIMARY KEY,\n",
    "    ID_Provider INTEGER NOT NULL,\n",
    "    ID_Product INTEGER NOT NULL,\n",
    "    quantity INTEGER NOT NULL,\n",
    "    price DECIMAL NOT NULL,\n",
    "    date DATE NOT NULL,\n",
    "    FOREIGN KEY (ID_Provider) REFERENCES Provider(id),\n",
    "    FOREIGN KEY (ID_Product) REFERENCES Product(id)\n",
    ")"
   ]
  },
  {
   "cell_type": "code",
   "execution_count": 10,
   "id": "bd13ea89-75e6-40ab-ad94-d8d9e4d194ea",
   "metadata": {},
   "outputs": [
    {
     "name": "stdout",
     "output_type": "stream",
     "text": [
      " * sqlite:///my_database2.db\n",
      "Done.\n"
     ]
    },
    {
     "data": {
      "text/plain": [
       "[]"
      ]
     },
     "execution_count": 10,
     "metadata": {},
     "output_type": "execute_result"
    }
   ],
   "source": [
    "%%sql\n",
    "CREATE TABLE IF NOT EXISTS Client (\n",
    "    id INTEGER PRIMARY KEY,\n",
    "    name TEXT NOT NULL,\n",
    "    phone INTEGER NOT NULL,\n",
    "    adress TEXT NOT NULL,\n",
    "    sex VARCHAR(1) NOT NULL\n",
    ")"
   ]
  },
  {
   "cell_type": "code",
   "execution_count": 11,
   "id": "8e651d5f-899e-48a9-b361-8270f3ef2b1f",
   "metadata": {},
   "outputs": [
    {
     "name": "stdout",
     "output_type": "stream",
     "text": [
      " * sqlite:///my_database2.db\n",
      "Done.\n"
     ]
    },
    {
     "data": {
      "text/plain": [
       "[]"
      ]
     },
     "execution_count": 11,
     "metadata": {},
     "output_type": "execute_result"
    }
   ],
   "source": [
    "%%sql\n",
    "CREATE TABLE IF NOT EXISTS Deal (\n",
    "    id INTEGER PRIMARY KEY,\n",
    "    date DATE NOT NULL,\n",
    "    ID_Store INTEGER NOT NULL,\n",
    "    ID_Client INTEGER NOT NULL,\n",
    "    ID_Employee INTEGER NOT NULL,\n",
    "    quantity INTEGER NOT NULL,\n",
    "    discount INTEGER NOT NULL,\n",
    "    FOREIGN KEY (ID_Store) REFERENCES Store(id),\n",
    "    FOREIGN KEY (ID_Client) REFERENCES Client(id),\n",
    "    FOREIGN KEY (ID_Employee) REFERENCES Employee(id)\n",
    ")"
   ]
  },
  {
   "cell_type": "code",
   "execution_count": 12,
   "id": "7ecb6be5-4adb-456c-8f4a-ee4e1dbfa2de",
   "metadata": {},
   "outputs": [
    {
     "name": "stdout",
     "output_type": "stream",
     "text": [
      " * sqlite:///my_database2.db\n",
      "5 rows affected.\n"
     ]
    },
    {
     "data": {
      "text/plain": [
       "[]"
      ]
     },
     "execution_count": 12,
     "metadata": {},
     "output_type": "execute_result"
    }
   ],
   "source": [
    "%%sql\n",
    "INSERT INTO Provider (name) VALUES\n",
    "('Компания A'), \n",
    "('Компания B'),\n",
    "('Компания C'), \n",
    "('ИП Иванов И.И.'), \n",
    "('ИП Петров П.П.'); "
   ]
  },
  {
   "cell_type": "code",
   "execution_count": 13,
   "id": "5e7a16d1-df57-40c4-93bb-6502051f0c1b",
   "metadata": {},
   "outputs": [
    {
     "name": "stdout",
     "output_type": "stream",
     "text": [
      " * sqlite:///my_database2.db\n",
      "10 rows affected.\n"
     ]
    },
    {
     "data": {
      "text/plain": [
       "[]"
      ]
     },
     "execution_count": 13,
     "metadata": {},
     "output_type": "execute_result"
    }
   ],
   "source": [
    "%%sql\n",
    "INSERT INTO Product ( name, unit, description, category) VALUES\n",
    "('Футбольный мяч', 'шт', 'Прочный мяч для футбола', 'Спортивные товары'),\n",
    "('Ноутбук', 'шт', 'Мощный ноутбук для работы и развлечений', 'Электроника'),\n",
    "( 'Зонтик', 'шт', 'Компактный складной зонт для дождливой погоды', 'Аксессуары'),\n",
    "('Фотоаппарат', 'шт', 'Профессиональная камера для фотосъемки', 'Фототехника'),\n",
    "( 'Сумка', 'шт', 'Стильная сумка для повседневного использования', 'Мода'),\n",
    "( 'Наушники', 'шт', 'Беспроводные наушники с отличным звуком', 'Электроника'),\n",
    "('Книга', 'шт', 'Увлекательная книга для чтения в свободное время', 'Книги'),\n",
    "('Кофеварка', 'шт', 'Кофеварка для приготовления ароматного кофе', 'Кухонная утварь'),\n",
    "( 'Джинсы', 'шт', 'Стильные джинсы с высоким качеством материалов', 'Мода'),\n",
    "( 'Чехол для смартфона', 'шт', 'Защитный чехол для смартфона с креативным дизайном', 'Аксессуары');"
   ]
  },
  {
   "cell_type": "code",
   "execution_count": 14,
   "id": "d78a5730-2644-4e00-9934-890f0ebbaf93",
   "metadata": {},
   "outputs": [
    {
     "name": "stdout",
     "output_type": "stream",
     "text": [
      " * sqlite:///my_database2.db\n",
      "9 rows affected.\n"
     ]
    },
    {
     "data": {
      "text/plain": [
       "[]"
      ]
     },
     "execution_count": 14,
     "metadata": {},
     "output_type": "execute_result"
    }
   ],
   "source": [
    "%%sql\n",
    "INSERT INTO Employee (ID_Manager, name) VALUES\n",
    "(NULL, 'Иванов Павел'),\n",
    "(1, 'Петров Алексей'),\n",
    "(1, 'Сидорова Елена'),\n",
    "(2, 'Козлова Анастасия'),\n",
    "(2, 'Смирнов Дмитрий'),\n",
    "(2, 'Попова Ольга'),\n",
    "(3, 'Николаев Игорь'),\n",
    "(3, 'Сергеева Марина'),\n",
    "(3, 'Петров Денис');"
   ]
  },
  {
   "cell_type": "code",
   "execution_count": 15,
   "id": "249d1be1-875b-4192-aa35-dbc050f12ec4",
   "metadata": {},
   "outputs": [
    {
     "name": "stdout",
     "output_type": "stream",
     "text": [
      " * sqlite:///my_database2.db\n",
      "11 rows affected.\n"
     ]
    },
    {
     "data": {
      "text/plain": [
       "[]"
      ]
     },
     "execution_count": 15,
     "metadata": {},
     "output_type": "execute_result"
    }
   ],
   "source": [
    "%%sql\n",
    "INSERT INTO Store (ID_Provider, ID_Product, quantity, price, date) VALUES\n",
    "(1, 1, 100, 50.00, '2025-01-10'), -- Product 1 поставлен Company A по цене 50.00\n",
    "(2, 1, 150, 55.00, '2025-02-15'), -- Product 1 поставлен Company B по цене 55.00\n",
    "(1, 2, 50, 800.00, '2025-01-05'), -- Product 2 поставлен Company A по цене 800.00\n",
    "(3, 2, 70, 750.00, '2025-03-20'), -- Product 2 поставлен Company C по цене 750.00\n",
    "(2, 3, 200, 15.00, '2025-01-20'), -- Product 3 поставлен Company B по цене 15.00\n",
    "(3, 4, 30, 1200.00, '2025-01-30'), -- Product 4 поставлен Company C по цене 1200.00\n",
    "(1, 4, 40, 1250.00, '2025-02-10'), -- Product 4 поставлен Company A по цене 1250.00\n",
    "(1, 4, 200, 1350.00, '2025-02-10'), -- Product 4 поставлен Company A по цене 1250.00\n",
    "(1, 5, 0, 50.00, '2025-03-05'), -- Product 5 закончился на складе у Company A\n",
    "(2, 6, 100, 100.00, '2025-02-28'), -- Product 6 поставлен Company B по цене 100.00\n",
    "(2, 7, 150, 10.00, '2025-01-15') -- Product 7 поставлен Company B по цене 10.00"
   ]
  },
  {
   "cell_type": "code",
   "execution_count": 16,
   "id": "e67d4922-389d-4891-b6a7-ac603a8f3bff",
   "metadata": {},
   "outputs": [
    {
     "name": "stdout",
     "output_type": "stream",
     "text": [
      " * sqlite:///my_database2.db\n",
      "10 rows affected.\n"
     ]
    },
    {
     "data": {
      "text/plain": [
       "[]"
      ]
     },
     "execution_count": 16,
     "metadata": {},
     "output_type": "execute_result"
    }
   ],
   "source": [
    "%%sql\n",
    "INSERT INTO Client (name, phone, adress, sex) VALUES\n",
    "('Иванов Петр', 79123456789, 'ул. Центральная, д. 5, кв. 3', 'м'),\n",
    "('Смирнова Елена', 79231234567, 'пер. Лесной, д. 10, кв. 15', 'ж'),\n",
    "('Козлов Александр', 79011223344, 'пр-т Парковый, д. 8, кв. 2', 'м'),\n",
    "('Попова Марина', 79998887766, 'ул. Солнечная, д. 3, кв. 7', 'ж'),\n",
    "('Николаев Андрей', 79777770010, 'пр-т Победы, д. 15, кв. 1', 'м'),\n",
    "('Сергеева Ольга', 79888882233, 'ул. Главная, д. 20, кв. 4', 'ж'),\n",
    "('Петров Дмитрий', 79665554488, 'пер. Цветочный, д. 7, кв. 10', 'м'),\n",
    "('Кузнецова Анна', 79050005500, 'пр-т Ленина, д. 12, кв. 6', 'ж'),\n",
    "('Жуков Игорь', 79991112233, 'ул. Первомайская, д. 1, кв. 9', 'м'),\n",
    "('Морозова Наталья', 79887776655, 'пер. Луговой, д. 25, кв. 12', 'ж');"
   ]
  },
  {
   "cell_type": "code",
   "execution_count": 17,
   "id": "2a135bde-017d-4b76-88b1-52656ddc1d2f",
   "metadata": {},
   "outputs": [
    {
     "name": "stdout",
     "output_type": "stream",
     "text": [
      " * sqlite:///my_database2.db\n",
      "10 rows affected.\n"
     ]
    },
    {
     "data": {
      "text/plain": [
       "[]"
      ]
     },
     "execution_count": 17,
     "metadata": {},
     "output_type": "execute_result"
    }
   ],
   "source": [
    "%%sql\n",
    "INSERT INTO Deal (date, ID_Store, ID_Client, ID_Employee, quantity, discount) VALUES\n",
    "('2025-02-05', 1, 1, 1, 5, 10), -- Сделка 1\n",
    "('2025-01-06', 2, 2, 1, 10, 15), -- Сделка 2\n",
    "('2025-01-07', 1, 3, 2, 3, 5), -- Сделка 3\n",
    "('2025-01-08', 3, 4, 3, 8, 12), -- Сделка 4\n",
    "('2025-01-09', 2, 5, 3, 6, 8), -- Сделка 5\n",
    "('2025-01-15', 3, 6, 1, 4, 10), -- Сделка 6\n",
    "('2025-01-20', 1, 7, 3, 7, 15), -- Сделка 7\n",
    "('2025-01-25', 2, 8, 1, 7, 10), -- Сделка 8\n",
    "('2025-01-26', 3, 10, 2, 9, 20), -- Сделка 9\n",
    "('2025-01-28', 1, 10, 2, 11, 25); -- Сделка 10"
   ]
  },
  {
   "cell_type": "code",
   "execution_count": 18,
   "id": "01393a52-ee48-43ea-9027-26be60118c10",
   "metadata": {},
   "outputs": [
    {
     "name": "stdout",
     "output_type": "stream",
     "text": [
      " * sqlite:///my_database2.db\n",
      "Done.\n"
     ]
    },
    {
     "data": {
      "text/html": [
       "<table>\n",
       "    <thead>\n",
       "        <tr>\n",
       "            <th>id</th>\n",
       "            <th>name</th>\n",
       "            <th>unit</th>\n",
       "            <th>description</th>\n",
       "            <th>category</th>\n",
       "        </tr>\n",
       "    </thead>\n",
       "    <tbody>\n",
       "        <tr>\n",
       "            <td>1</td>\n",
       "            <td>Футбольный мяч</td>\n",
       "            <td>шт</td>\n",
       "            <td>Прочный мяч для футбола</td>\n",
       "            <td>Спортивные товары</td>\n",
       "        </tr>\n",
       "        <tr>\n",
       "            <td>2</td>\n",
       "            <td>Ноутбук</td>\n",
       "            <td>шт</td>\n",
       "            <td>Мощный ноутбук для работы и развлечений</td>\n",
       "            <td>Электроника</td>\n",
       "        </tr>\n",
       "        <tr>\n",
       "            <td>3</td>\n",
       "            <td>Зонтик</td>\n",
       "            <td>шт</td>\n",
       "            <td>Компактный складной зонт для дождливой погоды</td>\n",
       "            <td>Аксессуары</td>\n",
       "        </tr>\n",
       "        <tr>\n",
       "            <td>4</td>\n",
       "            <td>Фотоаппарат</td>\n",
       "            <td>шт</td>\n",
       "            <td>Профессиональная камера для фотосъемки</td>\n",
       "            <td>Фототехника</td>\n",
       "        </tr>\n",
       "        <tr>\n",
       "            <td>5</td>\n",
       "            <td>Сумка</td>\n",
       "            <td>шт</td>\n",
       "            <td>Стильная сумка для повседневного использования</td>\n",
       "            <td>Мода</td>\n",
       "        </tr>\n",
       "        <tr>\n",
       "            <td>6</td>\n",
       "            <td>Наушники</td>\n",
       "            <td>шт</td>\n",
       "            <td>Беспроводные наушники с отличным звуком</td>\n",
       "            <td>Электроника</td>\n",
       "        </tr>\n",
       "        <tr>\n",
       "            <td>7</td>\n",
       "            <td>Книга</td>\n",
       "            <td>шт</td>\n",
       "            <td>Увлекательная книга для чтения в свободное время</td>\n",
       "            <td>Книги</td>\n",
       "        </tr>\n",
       "        <tr>\n",
       "            <td>8</td>\n",
       "            <td>Кофеварка</td>\n",
       "            <td>шт</td>\n",
       "            <td>Кофеварка для приготовления ароматного кофе</td>\n",
       "            <td>Кухонная утварь</td>\n",
       "        </tr>\n",
       "        <tr>\n",
       "            <td>9</td>\n",
       "            <td>Джинсы</td>\n",
       "            <td>шт</td>\n",
       "            <td>Стильные джинсы с высоким качеством материалов</td>\n",
       "            <td>Мода</td>\n",
       "        </tr>\n",
       "        <tr>\n",
       "            <td>10</td>\n",
       "            <td>Чехол для смартфона</td>\n",
       "            <td>шт</td>\n",
       "            <td>Защитный чехол для смартфона с креативным дизайном</td>\n",
       "            <td>Аксессуары</td>\n",
       "        </tr>\n",
       "    </tbody>\n",
       "</table>"
      ],
      "text/plain": [
       "[(1, 'Футбольный мяч', 'шт', 'Прочный мяч для футбола', 'Спортивные товары'),\n",
       " (2, 'Ноутбук', 'шт', 'Мощный ноутбук для работы и развлечений', 'Электроника'),\n",
       " (3, 'Зонтик', 'шт', 'Компактный складной зонт для дождливой погоды', 'Аксессуары'),\n",
       " (4, 'Фотоаппарат', 'шт', 'Профессиональная камера для фотосъемки', 'Фототехника'),\n",
       " (5, 'Сумка', 'шт', 'Стильная сумка для повседневного использования', 'Мода'),\n",
       " (6, 'Наушники', 'шт', 'Беспроводные наушники с отличным звуком', 'Электроника'),\n",
       " (7, 'Книга', 'шт', 'Увлекательная книга для чтения в свободное время', 'Книги'),\n",
       " (8, 'Кофеварка', 'шт', 'Кофеварка для приготовления ароматного кофе', 'Кухонная утварь'),\n",
       " (9, 'Джинсы', 'шт', 'Стильные джинсы с высоким качеством материалов', 'Мода'),\n",
       " (10, 'Чехол для смартфона', 'шт', 'Защитный чехол для смартфона с креативным дизайном', 'Аксессуары')]"
      ]
     },
     "execution_count": 18,
     "metadata": {},
     "output_type": "execute_result"
    }
   ],
   "source": [
    "%sql SELECT * FROM Product"
   ]
  },
  {
   "cell_type": "code",
   "execution_count": 19,
   "id": "016270b2-4b3e-44e8-902a-dc19ff315f45",
   "metadata": {},
   "outputs": [
    {
     "name": "stdout",
     "output_type": "stream",
     "text": [
      " * sqlite:///my_database2.db\n",
      "Done.\n"
     ]
    },
    {
     "data": {
      "text/html": [
       "<table>\n",
       "    <thead>\n",
       "        <tr>\n",
       "            <th>id</th>\n",
       "            <th>name</th>\n",
       "        </tr>\n",
       "    </thead>\n",
       "    <tbody>\n",
       "        <tr>\n",
       "            <td>1</td>\n",
       "            <td>Компания A</td>\n",
       "        </tr>\n",
       "        <tr>\n",
       "            <td>2</td>\n",
       "            <td>Компания B</td>\n",
       "        </tr>\n",
       "        <tr>\n",
       "            <td>3</td>\n",
       "            <td>Компания C</td>\n",
       "        </tr>\n",
       "        <tr>\n",
       "            <td>4</td>\n",
       "            <td>ИП Иванов И.И.</td>\n",
       "        </tr>\n",
       "        <tr>\n",
       "            <td>5</td>\n",
       "            <td>ИП Петров П.П.</td>\n",
       "        </tr>\n",
       "    </tbody>\n",
       "</table>"
      ],
      "text/plain": [
       "[(1, 'Компания A'),\n",
       " (2, 'Компания B'),\n",
       " (3, 'Компания C'),\n",
       " (4, 'ИП Иванов И.И.'),\n",
       " (5, 'ИП Петров П.П.')]"
      ]
     },
     "execution_count": 19,
     "metadata": {},
     "output_type": "execute_result"
    }
   ],
   "source": [
    "%sql SELECT * FROM Provider"
   ]
  },
  {
   "cell_type": "code",
   "execution_count": 20,
   "id": "8322ffe0-f0ed-493b-ace7-e6e153a9ab4a",
   "metadata": {},
   "outputs": [
    {
     "name": "stdout",
     "output_type": "stream",
     "text": [
      " * sqlite:///my_database2.db\n",
      "Done.\n"
     ]
    },
    {
     "data": {
      "text/html": [
       "<table>\n",
       "    <thead>\n",
       "        <tr>\n",
       "            <th>id</th>\n",
       "            <th>name</th>\n",
       "            <th>ID_Manager</th>\n",
       "        </tr>\n",
       "    </thead>\n",
       "    <tbody>\n",
       "        <tr>\n",
       "            <td>1</td>\n",
       "            <td>Иванов Павел</td>\n",
       "            <td>None</td>\n",
       "        </tr>\n",
       "        <tr>\n",
       "            <td>2</td>\n",
       "            <td>Петров Алексей</td>\n",
       "            <td>1</td>\n",
       "        </tr>\n",
       "        <tr>\n",
       "            <td>3</td>\n",
       "            <td>Сидорова Елена</td>\n",
       "            <td>1</td>\n",
       "        </tr>\n",
       "        <tr>\n",
       "            <td>4</td>\n",
       "            <td>Козлова Анастасия</td>\n",
       "            <td>2</td>\n",
       "        </tr>\n",
       "        <tr>\n",
       "            <td>5</td>\n",
       "            <td>Смирнов Дмитрий</td>\n",
       "            <td>2</td>\n",
       "        </tr>\n",
       "        <tr>\n",
       "            <td>6</td>\n",
       "            <td>Попова Ольга</td>\n",
       "            <td>2</td>\n",
       "        </tr>\n",
       "        <tr>\n",
       "            <td>7</td>\n",
       "            <td>Николаев Игорь</td>\n",
       "            <td>3</td>\n",
       "        </tr>\n",
       "        <tr>\n",
       "            <td>8</td>\n",
       "            <td>Сергеева Марина</td>\n",
       "            <td>3</td>\n",
       "        </tr>\n",
       "        <tr>\n",
       "            <td>9</td>\n",
       "            <td>Петров Денис</td>\n",
       "            <td>3</td>\n",
       "        </tr>\n",
       "    </tbody>\n",
       "</table>"
      ],
      "text/plain": [
       "[(1, 'Иванов Павел', None),\n",
       " (2, 'Петров Алексей', 1),\n",
       " (3, 'Сидорова Елена', 1),\n",
       " (4, 'Козлова Анастасия', 2),\n",
       " (5, 'Смирнов Дмитрий', 2),\n",
       " (6, 'Попова Ольга', 2),\n",
       " (7, 'Николаев Игорь', 3),\n",
       " (8, 'Сергеева Марина', 3),\n",
       " (9, 'Петров Денис', 3)]"
      ]
     },
     "execution_count": 20,
     "metadata": {},
     "output_type": "execute_result"
    }
   ],
   "source": [
    "%sql SELECT * FROM Employee"
   ]
  },
  {
   "cell_type": "code",
   "execution_count": 21,
   "id": "1c04ba4a-cf48-4c11-b8b0-db1d289c6fdd",
   "metadata": {},
   "outputs": [
    {
     "name": "stdout",
     "output_type": "stream",
     "text": [
      " * sqlite:///my_database2.db\n",
      "Done.\n"
     ]
    },
    {
     "data": {
      "text/html": [
       "<table>\n",
       "    <thead>\n",
       "        <tr>\n",
       "            <th>id</th>\n",
       "            <th>ID_Provider</th>\n",
       "            <th>ID_Product</th>\n",
       "            <th>quantity</th>\n",
       "            <th>price</th>\n",
       "            <th>date</th>\n",
       "        </tr>\n",
       "    </thead>\n",
       "    <tbody>\n",
       "        <tr>\n",
       "            <td>1</td>\n",
       "            <td>1</td>\n",
       "            <td>1</td>\n",
       "            <td>100</td>\n",
       "            <td>50</td>\n",
       "            <td>2025-01-10</td>\n",
       "        </tr>\n",
       "        <tr>\n",
       "            <td>2</td>\n",
       "            <td>2</td>\n",
       "            <td>1</td>\n",
       "            <td>150</td>\n",
       "            <td>55</td>\n",
       "            <td>2025-02-15</td>\n",
       "        </tr>\n",
       "        <tr>\n",
       "            <td>3</td>\n",
       "            <td>1</td>\n",
       "            <td>2</td>\n",
       "            <td>50</td>\n",
       "            <td>800</td>\n",
       "            <td>2025-01-05</td>\n",
       "        </tr>\n",
       "        <tr>\n",
       "            <td>4</td>\n",
       "            <td>3</td>\n",
       "            <td>2</td>\n",
       "            <td>70</td>\n",
       "            <td>750</td>\n",
       "            <td>2025-03-20</td>\n",
       "        </tr>\n",
       "        <tr>\n",
       "            <td>5</td>\n",
       "            <td>2</td>\n",
       "            <td>3</td>\n",
       "            <td>200</td>\n",
       "            <td>15</td>\n",
       "            <td>2025-01-20</td>\n",
       "        </tr>\n",
       "        <tr>\n",
       "            <td>6</td>\n",
       "            <td>3</td>\n",
       "            <td>4</td>\n",
       "            <td>30</td>\n",
       "            <td>1200</td>\n",
       "            <td>2025-01-30</td>\n",
       "        </tr>\n",
       "        <tr>\n",
       "            <td>7</td>\n",
       "            <td>1</td>\n",
       "            <td>4</td>\n",
       "            <td>40</td>\n",
       "            <td>1250</td>\n",
       "            <td>2025-02-10</td>\n",
       "        </tr>\n",
       "        <tr>\n",
       "            <td>8</td>\n",
       "            <td>1</td>\n",
       "            <td>4</td>\n",
       "            <td>200</td>\n",
       "            <td>1350</td>\n",
       "            <td>2025-02-10</td>\n",
       "        </tr>\n",
       "        <tr>\n",
       "            <td>9</td>\n",
       "            <td>1</td>\n",
       "            <td>5</td>\n",
       "            <td>0</td>\n",
       "            <td>50</td>\n",
       "            <td>2025-03-05</td>\n",
       "        </tr>\n",
       "        <tr>\n",
       "            <td>10</td>\n",
       "            <td>2</td>\n",
       "            <td>6</td>\n",
       "            <td>100</td>\n",
       "            <td>100</td>\n",
       "            <td>2025-02-28</td>\n",
       "        </tr>\n",
       "        <tr>\n",
       "            <td>11</td>\n",
       "            <td>2</td>\n",
       "            <td>7</td>\n",
       "            <td>150</td>\n",
       "            <td>10</td>\n",
       "            <td>2025-01-15</td>\n",
       "        </tr>\n",
       "    </tbody>\n",
       "</table>"
      ],
      "text/plain": [
       "[(1, 1, 1, 100, 50, '2025-01-10'),\n",
       " (2, 2, 1, 150, 55, '2025-02-15'),\n",
       " (3, 1, 2, 50, 800, '2025-01-05'),\n",
       " (4, 3, 2, 70, 750, '2025-03-20'),\n",
       " (5, 2, 3, 200, 15, '2025-01-20'),\n",
       " (6, 3, 4, 30, 1200, '2025-01-30'),\n",
       " (7, 1, 4, 40, 1250, '2025-02-10'),\n",
       " (8, 1, 4, 200, 1350, '2025-02-10'),\n",
       " (9, 1, 5, 0, 50, '2025-03-05'),\n",
       " (10, 2, 6, 100, 100, '2025-02-28'),\n",
       " (11, 2, 7, 150, 10, '2025-01-15')]"
      ]
     },
     "execution_count": 21,
     "metadata": {},
     "output_type": "execute_result"
    }
   ],
   "source": [
    "%sql SELECT * FROM Store"
   ]
  },
  {
   "cell_type": "code",
   "execution_count": 22,
   "id": "a6d965a7-c1e3-4762-af9f-7ec74f7c242a",
   "metadata": {},
   "outputs": [
    {
     "name": "stdout",
     "output_type": "stream",
     "text": [
      " * sqlite:///my_database2.db\n",
      "Done.\n"
     ]
    },
    {
     "data": {
      "text/html": [
       "<table>\n",
       "    <thead>\n",
       "        <tr>\n",
       "            <th>id</th>\n",
       "            <th>name</th>\n",
       "            <th>phone</th>\n",
       "            <th>adress</th>\n",
       "            <th>sex</th>\n",
       "        </tr>\n",
       "    </thead>\n",
       "    <tbody>\n",
       "        <tr>\n",
       "            <td>1</td>\n",
       "            <td>Иванов Петр</td>\n",
       "            <td>79123456789</td>\n",
       "            <td>ул. Центральная, д. 5, кв. 3</td>\n",
       "            <td>м</td>\n",
       "        </tr>\n",
       "        <tr>\n",
       "            <td>2</td>\n",
       "            <td>Смирнова Елена</td>\n",
       "            <td>79231234567</td>\n",
       "            <td>пер. Лесной, д. 10, кв. 15</td>\n",
       "            <td>ж</td>\n",
       "        </tr>\n",
       "        <tr>\n",
       "            <td>3</td>\n",
       "            <td>Козлов Александр</td>\n",
       "            <td>79011223344</td>\n",
       "            <td>пр-т Парковый, д. 8, кв. 2</td>\n",
       "            <td>м</td>\n",
       "        </tr>\n",
       "        <tr>\n",
       "            <td>4</td>\n",
       "            <td>Попова Марина</td>\n",
       "            <td>79998887766</td>\n",
       "            <td>ул. Солнечная, д. 3, кв. 7</td>\n",
       "            <td>ж</td>\n",
       "        </tr>\n",
       "        <tr>\n",
       "            <td>5</td>\n",
       "            <td>Николаев Андрей</td>\n",
       "            <td>79777770010</td>\n",
       "            <td>пр-т Победы, д. 15, кв. 1</td>\n",
       "            <td>м</td>\n",
       "        </tr>\n",
       "        <tr>\n",
       "            <td>6</td>\n",
       "            <td>Сергеева Ольга</td>\n",
       "            <td>79888882233</td>\n",
       "            <td>ул. Главная, д. 20, кв. 4</td>\n",
       "            <td>ж</td>\n",
       "        </tr>\n",
       "        <tr>\n",
       "            <td>7</td>\n",
       "            <td>Петров Дмитрий</td>\n",
       "            <td>79665554488</td>\n",
       "            <td>пер. Цветочный, д. 7, кв. 10</td>\n",
       "            <td>м</td>\n",
       "        </tr>\n",
       "        <tr>\n",
       "            <td>8</td>\n",
       "            <td>Кузнецова Анна</td>\n",
       "            <td>79050005500</td>\n",
       "            <td>пр-т Ленина, д. 12, кв. 6</td>\n",
       "            <td>ж</td>\n",
       "        </tr>\n",
       "        <tr>\n",
       "            <td>9</td>\n",
       "            <td>Жуков Игорь</td>\n",
       "            <td>79991112233</td>\n",
       "            <td>ул. Первомайская, д. 1, кв. 9</td>\n",
       "            <td>м</td>\n",
       "        </tr>\n",
       "        <tr>\n",
       "            <td>10</td>\n",
       "            <td>Морозова Наталья</td>\n",
       "            <td>79887776655</td>\n",
       "            <td>пер. Луговой, д. 25, кв. 12</td>\n",
       "            <td>ж</td>\n",
       "        </tr>\n",
       "    </tbody>\n",
       "</table>"
      ],
      "text/plain": [
       "[(1, 'Иванов Петр', 79123456789, 'ул. Центральная, д. 5, кв. 3', 'м'),\n",
       " (2, 'Смирнова Елена', 79231234567, 'пер. Лесной, д. 10, кв. 15', 'ж'),\n",
       " (3, 'Козлов Александр', 79011223344, 'пр-т Парковый, д. 8, кв. 2', 'м'),\n",
       " (4, 'Попова Марина', 79998887766, 'ул. Солнечная, д. 3, кв. 7', 'ж'),\n",
       " (5, 'Николаев Андрей', 79777770010, 'пр-т Победы, д. 15, кв. 1', 'м'),\n",
       " (6, 'Сергеева Ольга', 79888882233, 'ул. Главная, д. 20, кв. 4', 'ж'),\n",
       " (7, 'Петров Дмитрий', 79665554488, 'пер. Цветочный, д. 7, кв. 10', 'м'),\n",
       " (8, 'Кузнецова Анна', 79050005500, 'пр-т Ленина, д. 12, кв. 6', 'ж'),\n",
       " (9, 'Жуков Игорь', 79991112233, 'ул. Первомайская, д. 1, кв. 9', 'м'),\n",
       " (10, 'Морозова Наталья', 79887776655, 'пер. Луговой, д. 25, кв. 12', 'ж')]"
      ]
     },
     "execution_count": 22,
     "metadata": {},
     "output_type": "execute_result"
    }
   ],
   "source": [
    "%sql SELECT * FROM Client"
   ]
  },
  {
   "cell_type": "code",
   "execution_count": 23,
   "id": "9d0863a6-9d01-43e3-a319-cb0d52dc1fb6",
   "metadata": {},
   "outputs": [
    {
     "name": "stdout",
     "output_type": "stream",
     "text": [
      " * sqlite:///my_database2.db\n",
      "Done.\n"
     ]
    },
    {
     "data": {
      "text/html": [
       "<table>\n",
       "    <thead>\n",
       "        <tr>\n",
       "            <th>id</th>\n",
       "            <th>date</th>\n",
       "            <th>ID_Store</th>\n",
       "            <th>ID_Client</th>\n",
       "            <th>ID_Employee</th>\n",
       "            <th>quantity</th>\n",
       "            <th>discount</th>\n",
       "        </tr>\n",
       "    </thead>\n",
       "    <tbody>\n",
       "        <tr>\n",
       "            <td>1</td>\n",
       "            <td>2025-02-05</td>\n",
       "            <td>1</td>\n",
       "            <td>1</td>\n",
       "            <td>1</td>\n",
       "            <td>5</td>\n",
       "            <td>10</td>\n",
       "        </tr>\n",
       "        <tr>\n",
       "            <td>2</td>\n",
       "            <td>2025-01-06</td>\n",
       "            <td>2</td>\n",
       "            <td>2</td>\n",
       "            <td>1</td>\n",
       "            <td>10</td>\n",
       "            <td>15</td>\n",
       "        </tr>\n",
       "        <tr>\n",
       "            <td>3</td>\n",
       "            <td>2025-01-07</td>\n",
       "            <td>1</td>\n",
       "            <td>3</td>\n",
       "            <td>2</td>\n",
       "            <td>3</td>\n",
       "            <td>5</td>\n",
       "        </tr>\n",
       "        <tr>\n",
       "            <td>4</td>\n",
       "            <td>2025-01-08</td>\n",
       "            <td>3</td>\n",
       "            <td>4</td>\n",
       "            <td>3</td>\n",
       "            <td>8</td>\n",
       "            <td>12</td>\n",
       "        </tr>\n",
       "        <tr>\n",
       "            <td>5</td>\n",
       "            <td>2025-01-09</td>\n",
       "            <td>2</td>\n",
       "            <td>5</td>\n",
       "            <td>3</td>\n",
       "            <td>6</td>\n",
       "            <td>8</td>\n",
       "        </tr>\n",
       "        <tr>\n",
       "            <td>6</td>\n",
       "            <td>2025-01-15</td>\n",
       "            <td>3</td>\n",
       "            <td>6</td>\n",
       "            <td>1</td>\n",
       "            <td>4</td>\n",
       "            <td>10</td>\n",
       "        </tr>\n",
       "        <tr>\n",
       "            <td>7</td>\n",
       "            <td>2025-01-20</td>\n",
       "            <td>1</td>\n",
       "            <td>7</td>\n",
       "            <td>3</td>\n",
       "            <td>7</td>\n",
       "            <td>15</td>\n",
       "        </tr>\n",
       "        <tr>\n",
       "            <td>8</td>\n",
       "            <td>2025-01-25</td>\n",
       "            <td>2</td>\n",
       "            <td>8</td>\n",
       "            <td>1</td>\n",
       "            <td>7</td>\n",
       "            <td>10</td>\n",
       "        </tr>\n",
       "        <tr>\n",
       "            <td>9</td>\n",
       "            <td>2025-01-26</td>\n",
       "            <td>3</td>\n",
       "            <td>10</td>\n",
       "            <td>2</td>\n",
       "            <td>9</td>\n",
       "            <td>20</td>\n",
       "        </tr>\n",
       "        <tr>\n",
       "            <td>10</td>\n",
       "            <td>2025-01-28</td>\n",
       "            <td>1</td>\n",
       "            <td>10</td>\n",
       "            <td>2</td>\n",
       "            <td>11</td>\n",
       "            <td>25</td>\n",
       "        </tr>\n",
       "    </tbody>\n",
       "</table>"
      ],
      "text/plain": [
       "[(1, '2025-02-05', 1, 1, 1, 5, 10),\n",
       " (2, '2025-01-06', 2, 2, 1, 10, 15),\n",
       " (3, '2025-01-07', 1, 3, 2, 3, 5),\n",
       " (4, '2025-01-08', 3, 4, 3, 8, 12),\n",
       " (5, '2025-01-09', 2, 5, 3, 6, 8),\n",
       " (6, '2025-01-15', 3, 6, 1, 4, 10),\n",
       " (7, '2025-01-20', 1, 7, 3, 7, 15),\n",
       " (8, '2025-01-25', 2, 8, 1, 7, 10),\n",
       " (9, '2025-01-26', 3, 10, 2, 9, 20),\n",
       " (10, '2025-01-28', 1, 10, 2, 11, 25)]"
      ]
     },
     "execution_count": 23,
     "metadata": {},
     "output_type": "execute_result"
    }
   ],
   "source": [
    "%sql SELECT * FROM Deal"
   ]
  },
  {
   "cell_type": "code",
   "execution_count": null,
   "id": "bc4b3d58-77ee-4b79-a89d-db77803f71e7",
   "metadata": {},
   "outputs": [],
   "source": []
  }
 ],
 "metadata": {
  "kernelspec": {
   "display_name": "Python 3 (ipykernel)",
   "language": "python",
   "name": "python3"
  },
  "language_info": {
   "codemirror_mode": {
    "name": "ipython",
    "version": 3
   },
   "file_extension": ".py",
   "mimetype": "text/x-python",
   "name": "python",
   "nbconvert_exporter": "python",
   "pygments_lexer": "ipython3",
   "version": "3.13.2"
  }
 },
 "nbformat": 4,
 "nbformat_minor": 5
}
